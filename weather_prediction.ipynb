{
 "cells": [
  {
   "cell_type": "markdown",
   "id": "l4DSxBQhZJIN",
   "metadata": {
    "id": "l4DSxBQhZJIN"
   },
   "source": [
    "# Predicting The Weather Using Machine Learning"
   ]
  },
  {
   "cell_type": "code",
   "execution_count": 1,
   "id": "8523f27d-cee6-44ab-ac24-c2b68fe25346",
   "metadata": {
    "id": "8523f27d-cee6-44ab-ac24-c2b68fe25346"
   },
   "outputs": [],
   "source": [
    "import pandas as pd\n",
    "weather = pd.read_csv(\"local_weather.csv\", index_col=\"DATE\")"
   ]
  },
  {
   "cell_type": "markdown",
   "id": "76d8755c-b691-4a17-82f9-2ecb44813950",
   "metadata": {
    "id": "76d8755c-b691-4a17-82f9-2ecb44813950"
   },
   "source": [
    "## Exploratory Analysis Data phase\n",
    "Check the percentage of NaN values ​​in each column"
   ]
  },
  {
   "cell_type": "code",
   "execution_count": 2,
   "id": "971e6dd2-60bf-40e2-b0d5-a080df3d0de5",
   "metadata": {
    "colab": {
     "base_uri": "https://localhost:8080/",
     "height": 1000
    },
    "id": "971e6dd2-60bf-40e2-b0d5-a080df3d0de5",
    "outputId": "ff59071d-e5f9-4b5a-a8ca-44d641603bc9",
    "scrolled": true
   },
   "outputs": [
    {
     "data": {
      "text/plain": [
       "STATION     0.000000\n",
       "NAME        0.000000\n",
       "ACMH       67.320919\n",
       "ACSH       67.320919\n",
       "AWND       49.253481\n",
       "DAPR       99.955265\n",
       "FMTM       87.753733\n",
       "FRGT       99.988816\n",
       "MDPR       99.955265\n",
       "PGTM       52.368171\n",
       "PRCP        1.588100\n",
       "SNOW       36.364145\n",
       "SNWD       35.670749\n",
       "TAVG       88.609294\n",
       "TMAX        0.061511\n",
       "TMIN        0.078287\n",
       "TSUN       93.563720\n",
       "WDF1       67.320919\n",
       "WDF2       49.247889\n",
       "WDF5       49.745568\n",
       "WDFG       76.139350\n",
       "WSF1       67.320919\n",
       "WSF2       49.242297\n",
       "WSF5       49.745568\n",
       "WSFG       76.139350\n",
       "WT01       77.665940\n",
       "WT02       98.031650\n",
       "WT03       99.250685\n",
       "WT04       99.977632\n",
       "WT05       99.837835\n",
       "WT07       99.988816\n",
       "WT08       81.803948\n",
       "WT09       99.988816\n",
       "WT16       89.067830\n",
       "WT18       99.983224\n",
       "dtype: float64"
      ]
     },
     "execution_count": 2,
     "metadata": {},
     "output_type": "execute_result"
    }
   ],
   "source": [
    "#percentege of NaN values in wich column\n",
    "weather.isnull().sum()/weather.shape[0]*100"
   ]
  },
  {
   "cell_type": "markdown",
   "id": "9251f1c7-56e7-4c99-8197-9c18de25d299",
   "metadata": {
    "id": "9251f1c7-56e7-4c99-8197-9c18de25d299"
   },
   "source": [
    "#### Copy the data to another dataframe with only the most important columns, according to the dataset documentation."
   ]
  },
  {
   "cell_type": "code",
   "execution_count": 3,
   "id": "1866f5f5-8904-4086-ac21-f08ddb2f6366",
   "metadata": {
    "id": "1866f5f5-8904-4086-ac21-f08ddb2f6366"
   },
   "outputs": [],
   "source": [
    "core_weather = weather[[\"PRCP\", \"SNOW\", \"SNWD\", \"TMAX\", \"TMIN\"]].copy()"
   ]
  },
  {
   "cell_type": "markdown",
   "id": "c839cbbd-f468-4884-b1af-6c38e964cefd",
   "metadata": {
    "id": "c839cbbd-f468-4884-b1af-6c38e964cefd"
   },
   "source": [
    "#### Rename columns for better overall understanding."
   ]
  },
  {
   "cell_type": "code",
   "execution_count": 4,
   "id": "39508c89-07dc-4916-861e-34b2faf9f49d",
   "metadata": {
    "id": "39508c89-07dc-4916-861e-34b2faf9f49d"
   },
   "outputs": [],
   "source": [
    "core_weather.columns = [\"precip\", \"snow\", \"snow_depth\", \"temp_max\", \"temp_min\"]"
   ]
  },
  {
   "cell_type": "markdown",
   "id": "81e1d3df-5ad3-4ab6-8d9b-89a23d79c921",
   "metadata": {
    "id": "81e1d3df-5ad3-4ab6-8d9b-89a23d79c921"
   },
   "source": [
    "#### Check the percentage of \"NaN\" values ​​for the new dataset"
   ]
  },
  {
   "cell_type": "code",
   "execution_count": 5,
   "id": "dac78eaa-6368-42a4-9089-b673f11107b2",
   "metadata": {
    "colab": {
     "base_uri": "https://localhost:8080/",
     "height": 241
    },
    "id": "dac78eaa-6368-42a4-9089-b673f11107b2",
    "outputId": "47d52da1-a4b6-4c69-9f90-40c606171465"
   },
   "outputs": [
    {
     "data": {
      "text/plain": [
       "precip         1.588100\n",
       "snow          36.364145\n",
       "snow_depth    35.670749\n",
       "temp_max       0.061511\n",
       "temp_min       0.078287\n",
       "dtype: float64"
      ]
     },
     "execution_count": 5,
     "metadata": {},
     "output_type": "execute_result"
    }
   ],
   "source": [
    "core_weather.isnull().sum()/core_weather.shape[0]*100"
   ]
  },
  {
   "cell_type": "markdown",
   "id": "8b2dd69c-4fac-4bbe-9735-e6605e4c0381",
   "metadata": {
    "id": "8b2dd69c-4fac-4bbe-9735-e6605e4c0381"
   },
   "source": [
    "#### Presence of many 0.0 values ​​detected in the \"snow\" and \"snow_depth\" columns. Therefore, it was decided to exclude them"
   ]
  },
  {
   "cell_type": "code",
   "execution_count": 6,
   "id": "691fea4f-a66a-4e8c-abea-ca0e6d19aa49",
   "metadata": {
    "colab": {
     "base_uri": "https://localhost:8080/",
     "height": 178
    },
    "id": "691fea4f-a66a-4e8c-abea-ca0e6d19aa49",
    "outputId": "878a3d90-5965-4aca-cc7b-270ecd7b23c0"
   },
   "outputs": [
    {
     "data": {
      "text/plain": [
       "snow\n",
       "0.0     11379\n",
       "25.0        1\n",
       "Name: count, dtype: int64"
      ]
     },
     "execution_count": 6,
     "metadata": {},
     "output_type": "execute_result"
    }
   ],
   "source": [
    "core_weather[\"snow\"].value_counts()"
   ]
  },
  {
   "cell_type": "code",
   "execution_count": 7,
   "id": "cfe782ff-e2a4-467a-b57d-c408fa1e9428",
   "metadata": {
    "id": "cfe782ff-e2a4-467a-b57d-c408fa1e9428"
   },
   "outputs": [],
   "source": [
    "del core_weather[\"snow\"]"
   ]
  },
  {
   "cell_type": "code",
   "execution_count": 8,
   "id": "2a0cec80-df31-4731-8a49-4f71e5a85b86",
   "metadata": {
    "colab": {
     "base_uri": "https://localhost:8080/",
     "height": 147
    },
    "id": "2a0cec80-df31-4731-8a49-4f71e5a85b86",
    "outputId": "6a962d82-565d-4b74-c79a-dcd4c1cbce00"
   },
   "outputs": [
    {
     "data": {
      "text/plain": [
       "snow_depth\n",
       "0.0    11504\n",
       "Name: count, dtype: int64"
      ]
     },
     "execution_count": 8,
     "metadata": {},
     "output_type": "execute_result"
    }
   ],
   "source": [
    "core_weather[\"snow_depth\"].value_counts()"
   ]
  },
  {
   "cell_type": "code",
   "execution_count": 9,
   "id": "e8b54b16-d5a5-4180-b40f-33143e75b1f6",
   "metadata": {
    "id": "e8b54b16-d5a5-4180-b40f-33143e75b1f6"
   },
   "outputs": [],
   "source": [
    "del core_weather[\"snow_depth\"]"
   ]
  },
  {
   "cell_type": "markdown",
   "id": "ec10b863-ca32-4785-8ea8-35b8fbe79fef",
   "metadata": {
    "id": "ec10b863-ca32-4785-8ea8-35b8fbe79fef"
   },
   "source": [
    "#### Check \"NaN\" values ​​in the \"price\" column"
   ]
  },
  {
   "cell_type": "code",
   "execution_count": 10,
   "id": "70d9b564-0f5e-4363-a591-778b8242c441",
   "metadata": {
    "colab": {
     "base_uri": "https://localhost:8080/",
     "height": 455
    },
    "id": "70d9b564-0f5e-4363-a591-778b8242c441",
    "outputId": "c6cd55e3-e0c3-4a42-8532-d54613cfbb49"
   },
   "outputs": [
    {
     "data": {
      "text/html": [
       "<div>\n",
       "<style scoped>\n",
       "    .dataframe tbody tr th:only-of-type {\n",
       "        vertical-align: middle;\n",
       "    }\n",
       "\n",
       "    .dataframe tbody tr th {\n",
       "        vertical-align: top;\n",
       "    }\n",
       "\n",
       "    .dataframe thead th {\n",
       "        text-align: right;\n",
       "    }\n",
       "</style>\n",
       "<table border=\"1\" class=\"dataframe\">\n",
       "  <thead>\n",
       "    <tr style=\"text-align: right;\">\n",
       "      <th></th>\n",
       "      <th>precip</th>\n",
       "      <th>temp_max</th>\n",
       "      <th>temp_min</th>\n",
       "    </tr>\n",
       "    <tr>\n",
       "      <th>DATE</th>\n",
       "      <th></th>\n",
       "      <th></th>\n",
       "      <th></th>\n",
       "    </tr>\n",
       "  </thead>\n",
       "  <tbody>\n",
       "    <tr>\n",
       "      <th>1983-10-29</th>\n",
       "      <td>NaN</td>\n",
       "      <td>19.4</td>\n",
       "      <td>13.9</td>\n",
       "    </tr>\n",
       "    <tr>\n",
       "      <th>1983-10-30</th>\n",
       "      <td>NaN</td>\n",
       "      <td>21.1</td>\n",
       "      <td>17.2</td>\n",
       "    </tr>\n",
       "    <tr>\n",
       "      <th>1983-10-31</th>\n",
       "      <td>NaN</td>\n",
       "      <td>20.6</td>\n",
       "      <td>16.1</td>\n",
       "    </tr>\n",
       "    <tr>\n",
       "      <th>1983-11-12</th>\n",
       "      <td>NaN</td>\n",
       "      <td>17.2</td>\n",
       "      <td>12.8</td>\n",
       "    </tr>\n",
       "    <tr>\n",
       "      <th>1983-11-13</th>\n",
       "      <td>NaN</td>\n",
       "      <td>15.6</td>\n",
       "      <td>10.0</td>\n",
       "    </tr>\n",
       "    <tr>\n",
       "      <th>...</th>\n",
       "      <td>...</td>\n",
       "      <td>...</td>\n",
       "      <td>...</td>\n",
       "    </tr>\n",
       "    <tr>\n",
       "      <th>2016-05-08</th>\n",
       "      <td>NaN</td>\n",
       "      <td>19.4</td>\n",
       "      <td>13.3</td>\n",
       "    </tr>\n",
       "    <tr>\n",
       "      <th>2017-10-28</th>\n",
       "      <td>NaN</td>\n",
       "      <td>20.0</td>\n",
       "      <td>10.0</td>\n",
       "    </tr>\n",
       "    <tr>\n",
       "      <th>2023-03-29</th>\n",
       "      <td>NaN</td>\n",
       "      <td>11.1</td>\n",
       "      <td>6.1</td>\n",
       "    </tr>\n",
       "    <tr>\n",
       "      <th>2023-12-06</th>\n",
       "      <td>NaN</td>\n",
       "      <td>16.1</td>\n",
       "      <td>8.3</td>\n",
       "    </tr>\n",
       "    <tr>\n",
       "      <th>2023-12-29</th>\n",
       "      <td>NaN</td>\n",
       "      <td>17.2</td>\n",
       "      <td>12.8</td>\n",
       "    </tr>\n",
       "  </tbody>\n",
       "</table>\n",
       "<p>284 rows × 3 columns</p>\n",
       "</div>"
      ],
      "text/plain": [
       "            precip  temp_max  temp_min\n",
       "DATE                                  \n",
       "1983-10-29     NaN      19.4      13.9\n",
       "1983-10-30     NaN      21.1      17.2\n",
       "1983-10-31     NaN      20.6      16.1\n",
       "1983-11-12     NaN      17.2      12.8\n",
       "1983-11-13     NaN      15.6      10.0\n",
       "...            ...       ...       ...\n",
       "2016-05-08     NaN      19.4      13.3\n",
       "2017-10-28     NaN      20.0      10.0\n",
       "2023-03-29     NaN      11.1       6.1\n",
       "2023-12-06     NaN      16.1       8.3\n",
       "2023-12-29     NaN      17.2      12.8\n",
       "\n",
       "[284 rows x 3 columns]"
      ]
     },
     "execution_count": 10,
     "metadata": {},
     "output_type": "execute_result"
    }
   ],
   "source": [
    "core_weather[pd.isnull(core_weather[\"precip\"])]"
   ]
  },
  {
   "cell_type": "markdown",
   "id": "72a2448a-fdf0-4696-b5da-a11d5c46ea60",
   "metadata": {
    "id": "72a2448a-fdf0-4696-b5da-a11d5c46ea60"
   },
   "source": [
    "#### Check how many days there was zero precipitation to decide how to replace missing data for that column"
   ]
  },
  {
   "cell_type": "code",
   "execution_count": 11,
   "id": "6f6ccdd6-682a-4d31-bdc1-83c96ac0de26",
   "metadata": {
    "colab": {
     "base_uri": "https://localhost:8080/",
     "height": 490
    },
    "id": "6f6ccdd6-682a-4d31-bdc1-83c96ac0de26",
    "outputId": "6bb81725-ae21-48e4-fd3e-d513f68bd5f4"
   },
   "outputs": [
    {
     "data": {
      "text/plain": [
       "precip\n",
       "0.0     14539\n",
       "0.3       447\n",
       "0.5       205\n",
       "0.8       126\n",
       "1.0       106\n",
       "        ...  \n",
       "26.7        1\n",
       "35.1        1\n",
       "49.5        1\n",
       "51.1        1\n",
       "32.5        1\n",
       "Name: count, Length: 182, dtype: int64"
      ]
     },
     "execution_count": 11,
     "metadata": {},
     "output_type": "execute_result"
    }
   ],
   "source": [
    "core_weather[\"precip\"].value_counts()"
   ]
  },
  {
   "cell_type": "markdown",
   "id": "ca57d2cc-2560-40dd-8329-7c686f5e87b4",
   "metadata": {
    "id": "ca57d2cc-2560-40dd-8329-7c686f5e87b4"
   },
   "source": [
    "#### Of the non-missing data, 14823 days had zero or very close to zero precipitation. Therefore, we decided to replace the missing precipitation data with zero."
   ]
  },
  {
   "cell_type": "code",
   "execution_count": 12,
   "id": "51d89113-d1c0-42ee-8099-c8a3a48b4169",
   "metadata": {
    "id": "51d89113-d1c0-42ee-8099-c8a3a48b4169"
   },
   "outputs": [],
   "source": [
    "core_weather[\"precip\"] = core_weather[\"precip\"].fillna(0)"
   ]
  },
  {
   "cell_type": "markdown",
   "id": "a216850d-a8fb-46a0-85a9-9a57f70406a9",
   "metadata": {
    "id": "a216850d-a8fb-46a0-85a9-9a57f70406a9"
   },
   "source": [
    "#### Apply the same missing data analysis to the \"temp_max\" and \"temp_min\" columns. Decide which strategy to use to treat them."
   ]
  },
  {
   "cell_type": "code",
   "execution_count": 13,
   "id": "d272c6e8-cec7-4ae3-a158-1c806182fea9",
   "metadata": {
    "colab": {
     "base_uri": "https://localhost:8080/"
    },
    "id": "d272c6e8-cec7-4ae3-a158-1c806182fea9",
    "outputId": "1ab415bf-1cf5-4443-be68-cc09ba03919e",
    "scrolled": true
   },
   "outputs": [
    {
     "data": {
      "text/plain": [
       "11"
      ]
     },
     "execution_count": 13,
     "metadata": {},
     "output_type": "execute_result"
    }
   ],
   "source": [
    "core_weather[\"temp_max\"].isnull().sum()"
   ]
  },
  {
   "cell_type": "code",
   "execution_count": 14,
   "id": "683d61e0-15a3-4d20-b8f4-6a1234932f36",
   "metadata": {
    "colab": {
     "base_uri": "https://localhost:8080/"
    },
    "id": "683d61e0-15a3-4d20-b8f4-6a1234932f36",
    "outputId": "8d3b3654-14d5-4d5b-dc47-7d4b4551c759"
   },
   "outputs": [
    {
     "data": {
      "text/plain": [
       "14"
      ]
     },
     "execution_count": 14,
     "metadata": {},
     "output_type": "execute_result"
    }
   ],
   "source": [
    "core_weather[\"temp_min\"].isnull().sum()"
   ]
  },
  {
   "cell_type": "code",
   "execution_count": 15,
   "id": "43375fd2-5861-4b34-afda-08becaf32166",
   "metadata": {
    "colab": {
     "base_uri": "https://localhost:8080/",
     "height": 520
    },
    "id": "43375fd2-5861-4b34-afda-08becaf32166",
    "outputId": "0f361309-107d-4324-908d-35d2faa1277a"
   },
   "outputs": [
    {
     "data": {
      "text/html": [
       "<div>\n",
       "<style scoped>\n",
       "    .dataframe tbody tr th:only-of-type {\n",
       "        vertical-align: middle;\n",
       "    }\n",
       "\n",
       "    .dataframe tbody tr th {\n",
       "        vertical-align: top;\n",
       "    }\n",
       "\n",
       "    .dataframe thead th {\n",
       "        text-align: right;\n",
       "    }\n",
       "</style>\n",
       "<table border=\"1\" class=\"dataframe\">\n",
       "  <thead>\n",
       "    <tr style=\"text-align: right;\">\n",
       "      <th></th>\n",
       "      <th>precip</th>\n",
       "      <th>temp_max</th>\n",
       "      <th>temp_min</th>\n",
       "    </tr>\n",
       "    <tr>\n",
       "      <th>DATE</th>\n",
       "      <th></th>\n",
       "      <th></th>\n",
       "      <th></th>\n",
       "    </tr>\n",
       "  </thead>\n",
       "  <tbody>\n",
       "    <tr>\n",
       "      <th>2004-11-20</th>\n",
       "      <td>0.0</td>\n",
       "      <td>NaN</td>\n",
       "      <td>NaN</td>\n",
       "    </tr>\n",
       "    <tr>\n",
       "      <th>2011-12-21</th>\n",
       "      <td>0.0</td>\n",
       "      <td>16.1</td>\n",
       "      <td>NaN</td>\n",
       "    </tr>\n",
       "    <tr>\n",
       "      <th>2011-12-22</th>\n",
       "      <td>0.0</td>\n",
       "      <td>16.7</td>\n",
       "      <td>NaN</td>\n",
       "    </tr>\n",
       "    <tr>\n",
       "      <th>2011-12-23</th>\n",
       "      <td>0.0</td>\n",
       "      <td>13.3</td>\n",
       "      <td>NaN</td>\n",
       "    </tr>\n",
       "    <tr>\n",
       "      <th>2011-12-24</th>\n",
       "      <td>0.0</td>\n",
       "      <td>12.8</td>\n",
       "      <td>NaN</td>\n",
       "    </tr>\n",
       "    <tr>\n",
       "      <th>2011-12-25</th>\n",
       "      <td>0.0</td>\n",
       "      <td>12.2</td>\n",
       "      <td>NaN</td>\n",
       "    </tr>\n",
       "    <tr>\n",
       "      <th>2013-06-16</th>\n",
       "      <td>0.0</td>\n",
       "      <td>NaN</td>\n",
       "      <td>NaN</td>\n",
       "    </tr>\n",
       "    <tr>\n",
       "      <th>2020-08-29</th>\n",
       "      <td>0.0</td>\n",
       "      <td>NaN</td>\n",
       "      <td>NaN</td>\n",
       "    </tr>\n",
       "    <tr>\n",
       "      <th>2020-09-08</th>\n",
       "      <td>0.0</td>\n",
       "      <td>NaN</td>\n",
       "      <td>NaN</td>\n",
       "    </tr>\n",
       "    <tr>\n",
       "      <th>2020-09-09</th>\n",
       "      <td>0.0</td>\n",
       "      <td>NaN</td>\n",
       "      <td>NaN</td>\n",
       "    </tr>\n",
       "    <tr>\n",
       "      <th>2022-10-08</th>\n",
       "      <td>0.0</td>\n",
       "      <td>NaN</td>\n",
       "      <td>NaN</td>\n",
       "    </tr>\n",
       "    <tr>\n",
       "      <th>2022-10-09</th>\n",
       "      <td>0.0</td>\n",
       "      <td>NaN</td>\n",
       "      <td>NaN</td>\n",
       "    </tr>\n",
       "    <tr>\n",
       "      <th>2022-10-10</th>\n",
       "      <td>0.0</td>\n",
       "      <td>20.6</td>\n",
       "      <td>NaN</td>\n",
       "    </tr>\n",
       "    <tr>\n",
       "      <th>2022-10-11</th>\n",
       "      <td>0.0</td>\n",
       "      <td>18.9</td>\n",
       "      <td>NaN</td>\n",
       "    </tr>\n",
       "  </tbody>\n",
       "</table>\n",
       "</div>"
      ],
      "text/plain": [
       "            precip  temp_max  temp_min\n",
       "DATE                                  \n",
       "2004-11-20     0.0       NaN       NaN\n",
       "2011-12-21     0.0      16.1       NaN\n",
       "2011-12-22     0.0      16.7       NaN\n",
       "2011-12-23     0.0      13.3       NaN\n",
       "2011-12-24     0.0      12.8       NaN\n",
       "2011-12-25     0.0      12.2       NaN\n",
       "2013-06-16     0.0       NaN       NaN\n",
       "2020-08-29     0.0       NaN       NaN\n",
       "2020-09-08     0.0       NaN       NaN\n",
       "2020-09-09     0.0       NaN       NaN\n",
       "2022-10-08     0.0       NaN       NaN\n",
       "2022-10-09     0.0       NaN       NaN\n",
       "2022-10-10     0.0      20.6       NaN\n",
       "2022-10-11     0.0      18.9       NaN"
      ]
     },
     "execution_count": 15,
     "metadata": {},
     "output_type": "execute_result"
    }
   ],
   "source": [
    "core_weather[pd.isnull(core_weather[\"temp_min\"])]"
   ]
  },
  {
   "cell_type": "code",
   "execution_count": 16,
   "id": "325f364b-3e69-49d3-8d6e-c00f4805522d",
   "metadata": {
    "colab": {
     "base_uri": "https://localhost:8080/",
     "height": 426
    },
    "id": "325f364b-3e69-49d3-8d6e-c00f4805522d",
    "outputId": "c3df2c95-957a-478d-da99-cc5fee77d210"
   },
   "outputs": [
    {
     "data": {
      "text/html": [
       "<div>\n",
       "<style scoped>\n",
       "    .dataframe tbody tr th:only-of-type {\n",
       "        vertical-align: middle;\n",
       "    }\n",
       "\n",
       "    .dataframe tbody tr th {\n",
       "        vertical-align: top;\n",
       "    }\n",
       "\n",
       "    .dataframe thead th {\n",
       "        text-align: right;\n",
       "    }\n",
       "</style>\n",
       "<table border=\"1\" class=\"dataframe\">\n",
       "  <thead>\n",
       "    <tr style=\"text-align: right;\">\n",
       "      <th></th>\n",
       "      <th>precip</th>\n",
       "      <th>temp_max</th>\n",
       "      <th>temp_min</th>\n",
       "    </tr>\n",
       "    <tr>\n",
       "      <th>DATE</th>\n",
       "      <th></th>\n",
       "      <th></th>\n",
       "      <th></th>\n",
       "    </tr>\n",
       "  </thead>\n",
       "  <tbody>\n",
       "    <tr>\n",
       "      <th>2004-11-20</th>\n",
       "      <td>0.0</td>\n",
       "      <td>NaN</td>\n",
       "      <td>NaN</td>\n",
       "    </tr>\n",
       "    <tr>\n",
       "      <th>2013-06-16</th>\n",
       "      <td>0.0</td>\n",
       "      <td>NaN</td>\n",
       "      <td>NaN</td>\n",
       "    </tr>\n",
       "    <tr>\n",
       "      <th>2019-04-18</th>\n",
       "      <td>0.0</td>\n",
       "      <td>NaN</td>\n",
       "      <td>10.0</td>\n",
       "    </tr>\n",
       "    <tr>\n",
       "      <th>2019-04-21</th>\n",
       "      <td>0.0</td>\n",
       "      <td>NaN</td>\n",
       "      <td>11.1</td>\n",
       "    </tr>\n",
       "    <tr>\n",
       "      <th>2019-04-22</th>\n",
       "      <td>0.0</td>\n",
       "      <td>NaN</td>\n",
       "      <td>10.0</td>\n",
       "    </tr>\n",
       "    <tr>\n",
       "      <th>2020-08-29</th>\n",
       "      <td>0.0</td>\n",
       "      <td>NaN</td>\n",
       "      <td>NaN</td>\n",
       "    </tr>\n",
       "    <tr>\n",
       "      <th>2020-09-08</th>\n",
       "      <td>0.0</td>\n",
       "      <td>NaN</td>\n",
       "      <td>NaN</td>\n",
       "    </tr>\n",
       "    <tr>\n",
       "      <th>2020-09-09</th>\n",
       "      <td>0.0</td>\n",
       "      <td>NaN</td>\n",
       "      <td>NaN</td>\n",
       "    </tr>\n",
       "    <tr>\n",
       "      <th>2021-10-31</th>\n",
       "      <td>0.0</td>\n",
       "      <td>NaN</td>\n",
       "      <td>13.3</td>\n",
       "    </tr>\n",
       "    <tr>\n",
       "      <th>2022-10-08</th>\n",
       "      <td>0.0</td>\n",
       "      <td>NaN</td>\n",
       "      <td>NaN</td>\n",
       "    </tr>\n",
       "    <tr>\n",
       "      <th>2022-10-09</th>\n",
       "      <td>0.0</td>\n",
       "      <td>NaN</td>\n",
       "      <td>NaN</td>\n",
       "    </tr>\n",
       "  </tbody>\n",
       "</table>\n",
       "</div>"
      ],
      "text/plain": [
       "            precip  temp_max  temp_min\n",
       "DATE                                  \n",
       "2004-11-20     0.0       NaN       NaN\n",
       "2013-06-16     0.0       NaN       NaN\n",
       "2019-04-18     0.0       NaN      10.0\n",
       "2019-04-21     0.0       NaN      11.1\n",
       "2019-04-22     0.0       NaN      10.0\n",
       "2020-08-29     0.0       NaN       NaN\n",
       "2020-09-08     0.0       NaN       NaN\n",
       "2020-09-09     0.0       NaN       NaN\n",
       "2021-10-31     0.0       NaN      13.3\n",
       "2022-10-08     0.0       NaN       NaN\n",
       "2022-10-09     0.0       NaN       NaN"
      ]
     },
     "execution_count": 16,
     "metadata": {},
     "output_type": "execute_result"
    }
   ],
   "source": [
    "core_weather[pd.isnull(core_weather[\"temp_max\"])]"
   ]
  },
  {
   "cell_type": "markdown",
   "id": "2c15637e-bc58-4127-86ce-be49d321e47e",
   "metadata": {
    "id": "2c15637e-bc58-4127-86ce-be49d321e47e"
   },
   "source": [
    "#### Due to the amount of missing values ​​in the temp_max and temp_min columns is very small (less than 0.61%) we decided to fill the missing values ​​with the immediately preceding non-missing values ​​and use them to fill the missing ones. Forward Fill Method."
   ]
  },
  {
   "cell_type": "code",
   "execution_count": 17,
   "id": "8b68b15a-2c63-4064-9ba2-32da1785beca",
   "metadata": {
    "id": "8b68b15a-2c63-4064-9ba2-32da1785beca"
   },
   "outputs": [],
   "source": [
    "# core_weather = core_weather.fillna(method=\"ffill\") this comandline is deprecated\n",
    "# new way of doing ffill on pandas:\n",
    "core_weather = core_weather.ffill()"
   ]
  },
  {
   "cell_type": "markdown",
   "id": "378a7a01-af1f-4d07-9eaa-788dc29451e8",
   "metadata": {
    "id": "378a7a01-af1f-4d07-9eaa-788dc29451e8"
   },
   "source": [
    "#### Check if there are still missing values ​​in the dataset."
   ]
  },
  {
   "cell_type": "code",
   "execution_count": 18,
   "id": "691f3b87-6906-45d1-ad57-b17a7cbc7e35",
   "metadata": {
    "colab": {
     "base_uri": "https://localhost:8080/",
     "height": 178
    },
    "id": "691f3b87-6906-45d1-ad57-b17a7cbc7e35",
    "outputId": "232eb62c-e0ab-4fac-e460-0e978ec335ee"
   },
   "outputs": [
    {
     "data": {
      "text/plain": [
       "precip      0.0\n",
       "temp_max    0.0\n",
       "temp_min    0.0\n",
       "dtype: float64"
      ]
     },
     "execution_count": 18,
     "metadata": {},
     "output_type": "execute_result"
    }
   ],
   "source": [
    "core_weather.isnull().sum()/core_weather.shape[0]*100"
   ]
  },
  {
   "cell_type": "markdown",
   "id": "6b2257fc-2c5a-4845-bcea-0039a94c1b8b",
   "metadata": {
    "id": "6b2257fc-2c5a-4845-bcea-0039a94c1b8b"
   },
   "source": [
    "#### Preparing for machine learning method\n",
    "\n"
   ]
  },
  {
   "cell_type": "code",
   "execution_count": 19,
   "id": "ccee8eb1-a826-4f51-b920-0893084410a1",
   "metadata": {
    "colab": {
     "base_uri": "https://localhost:8080/"
    },
    "id": "ccee8eb1-a826-4f51-b920-0893084410a1",
    "outputId": "ae0f2783-a187-47d2-9fdb-7f6901a3552a"
   },
   "outputs": [
    {
     "data": {
      "text/plain": [
       "Index(['1960-01-01', '1960-01-02', '1960-01-03', '1960-01-04', '1960-01-05',\n",
       "       '1960-01-06', '1960-01-07', '1960-01-08', '1960-01-09', '1960-01-10',\n",
       "       ...\n",
       "       '2024-11-07', '2024-11-08', '2024-11-09', '2024-11-10', '2024-11-11',\n",
       "       '2024-11-12', '2024-11-13', '2024-11-14', '2024-11-15', '2024-11-16'],\n",
       "      dtype='object', name='DATE', length=17883)"
      ]
     },
     "execution_count": 19,
     "metadata": {},
     "output_type": "execute_result"
    }
   ],
   "source": [
    "core_weather.index"
   ]
  },
  {
   "cell_type": "markdown",
   "id": "e0039434-376d-4d9b-a6aa-a1865b2c78b6",
   "metadata": {
    "id": "e0039434-376d-4d9b-a6aa-a1865b2c78b6"
   },
   "source": [
    "#### We already noticed that all the data is of type float64, however, the date values ​​are not. So, let's transform them into datetime64."
   ]
  },
  {
   "cell_type": "code",
   "execution_count": 20,
   "id": "dbbed2fa-c4bc-466c-83b7-6b260f7ca5ce",
   "metadata": {
    "id": "dbbed2fa-c4bc-466c-83b7-6b260f7ca5ce"
   },
   "outputs": [],
   "source": [
    "core_weather.index = pd.to_datetime(core_weather.index)"
   ]
  },
  {
   "cell_type": "code",
   "execution_count": 21,
   "id": "2c77d0bc-62cf-40da-907e-c9e239591d24",
   "metadata": {
    "colab": {
     "base_uri": "https://localhost:8080/"
    },
    "id": "2c77d0bc-62cf-40da-907e-c9e239591d24",
    "outputId": "444898b4-0953-498e-b0b3-adc67e29a13a",
    "scrolled": true
   },
   "outputs": [
    {
     "data": {
      "text/plain": [
       "DatetimeIndex(['1960-01-01', '1960-01-02', '1960-01-03', '1960-01-04',\n",
       "               '1960-01-05', '1960-01-06', '1960-01-07', '1960-01-08',\n",
       "               '1960-01-09', '1960-01-10',\n",
       "               ...\n",
       "               '2024-11-07', '2024-11-08', '2024-11-09', '2024-11-10',\n",
       "               '2024-11-11', '2024-11-12', '2024-11-13', '2024-11-14',\n",
       "               '2024-11-15', '2024-11-16'],\n",
       "              dtype='datetime64[ns]', name='DATE', length=17883, freq=None)"
      ]
     },
     "execution_count": 21,
     "metadata": {},
     "output_type": "execute_result"
    }
   ],
   "source": [
    "core_weather.index"
   ]
  },
  {
   "cell_type": "markdown",
   "id": "1e2512d3-b55a-481d-b6d5-5eeac4d7c4ba",
   "metadata": {
    "id": "1e2512d3-b55a-481d-b6d5-5eeac4d7c4ba"
   },
   "source": [
    "#### The dataset documentation says that in the 90s, values ​​9999 indicate missing data. So we need to check."
   ]
  },
  {
   "cell_type": "code",
   "execution_count": 22,
   "id": "1d841c31-bb0f-4fe7-bf29-bc42c596fe0d",
   "metadata": {
    "colab": {
     "base_uri": "https://localhost:8080/",
     "height": 178
    },
    "id": "1d841c31-bb0f-4fe7-bf29-bc42c596fe0d",
    "outputId": "9727f108-0588-42cf-b0cc-8da5fd06fb91"
   },
   "outputs": [
    {
     "data": {
      "text/plain": [
       "precip      0\n",
       "temp_max    0\n",
       "temp_min    0\n",
       "dtype: int64"
      ]
     },
     "execution_count": 22,
     "metadata": {},
     "output_type": "execute_result"
    }
   ],
   "source": [
    "core_weather.apply(lambda x: (x==9999).sum())"
   ]
  },
  {
   "cell_type": "markdown",
   "id": "1cd23c3b-88b9-4f44-8c9a-4fe15fbdecae",
   "metadata": {
    "id": "1cd23c3b-88b9-4f44-8c9a-4fe15fbdecae"
   },
   "source": [
    "#### Some graphs to check data consistency"
   ]
  },
  {
   "cell_type": "code",
   "execution_count": 23,
   "id": "230e98d9-d741-4927-831c-072cba97caac",
   "metadata": {
    "colab": {
     "base_uri": "https://localhost:8080/",
     "height": 439
    },
    "id": "230e98d9-d741-4927-831c-072cba97caac",
    "outputId": "20b1933f-745f-40a9-bd0c-bc837073a11e"
   },
   "outputs": [
    {
     "data": {
      "text/plain": [
       "<Axes: xlabel='DATE'>"
      ]
     },
     "execution_count": 23,
     "metadata": {},
     "output_type": "execute_result"
    },
    {
     "data": {
      "image/png": "[encoded data removed]",
      "text/plain": [
       "<Figure size 640x480 with 1 Axes>"
      ]
     },
     "metadata": {},
     "output_type": "display_data"
    }
   ],
   "source": [
    "core_weather[[\"temp_max\",\"temp_min\",\"precip\"]].plot()"
   ]
  },
  {
   "cell_type": "markdown",
   "id": "3a426b85-3aca-426c-9998-4632a935db8c",
   "metadata": {
    "id": "3a426b85-3aca-426c-9998-4632a935db8c"
   },
   "source": [
    "#### We noticed a strange gap between 1985 and 2000. Let's investigate and decide whether to address this gap or continue without this data for the machine learning process. Note below that few intirely years are missing, what causes the gap (1981, 1982, 1987-1999, and so on...)."
   ]
  },
  {
   "cell_type": "code",
   "execution_count": 24,
   "id": "aafb0528-97cd-42ae-9d2f-5ca494a8e3bb",
   "metadata": {
    "colab": {
     "base_uri": "https://localhost:8080/",
     "height": 1000
    },
    "id": "aafb0528-97cd-42ae-9d2f-5ca494a8e3bb",
    "outputId": "d6a53e6e-53ea-44ca-fd89-7813be733cf8"
   },
   "outputs": [
    {
     "data": {
      "text/plain": [
       "DATE\n",
       "1960    366\n",
       "1961    365\n",
       "1962    365\n",
       "1963    365\n",
       "1964    366\n",
       "1965    365\n",
       "1966    365\n",
       "1967    365\n",
       "1968    366\n",
       "1969    365\n",
       "1970    365\n",
       "1971    365\n",
       "1972    366\n",
       "1973    365\n",
       "1974    365\n",
       "1975    365\n",
       "1976    366\n",
       "1977    365\n",
       "1978    365\n",
       "1979    365\n",
       "1980    366\n",
       "1983    184\n",
       "1984    366\n",
       "1985    365\n",
       "1986    212\n",
       "2000    365\n",
       "2001    365\n",
       "2002    365\n",
       "2003    365\n",
       "2004    366\n",
       "2005    365\n",
       "2006    365\n",
       "2007    365\n",
       "2008    366\n",
       "2009    365\n",
       "2010    365\n",
       "2011    365\n",
       "2012    365\n",
       "2013    365\n",
       "2014    365\n",
       "2015    365\n",
       "2016    366\n",
       "2017    365\n",
       "2018    365\n",
       "2019    365\n",
       "2020    366\n",
       "2021    365\n",
       "2022    365\n",
       "2023    365\n",
       "2024    321\n",
       "Name: count, dtype: int64"
      ]
     },
     "execution_count": 24,
     "metadata": {},
     "output_type": "execute_result"
    }
   ],
   "source": [
    "core_weather.index.year.value_counts().sort_index()"
   ]
  },
  {
   "cell_type": "code",
   "execution_count": 25,
   "id": "9fcede0f-0522-49f4-a42b-146d4a4d303e",
   "metadata": {
    "colab": {
     "base_uri": "https://localhost:8080/",
     "height": 1000
    },
    "id": "9fcede0f-0522-49f4-a42b-146d4a4d303e",
    "outputId": "8e341cc2-ae63-4596-c776-c100bfbeb05b",
    "scrolled": true
   },
   "outputs": [
    {
     "data": {
      "text/plain": [
       "DATE\n",
       "1960    355.8\n",
       "1961    352.5\n",
       "1962    571.6\n",
       "1963    485.9\n",
       "1964    428.2\n",
       "1965    414.5\n",
       "1966    333.2\n",
       "1967    609.5\n",
       "1968    437.0\n",
       "1969    653.2\n",
       "1970    643.1\n",
       "1971    270.3\n",
       "1972    414.0\n",
       "1973    746.2\n",
       "1974    428.9\n",
       "1975    446.1\n",
       "1976    219.7\n",
       "1977    297.6\n",
       "1978    573.6\n",
       "1979    604.4\n",
       "1980    345.3\n",
       "1983    181.3\n",
       "1984    407.5\n",
       "1985    216.5\n",
       "1986      0.0\n",
       "2000    536.8\n",
       "2001    581.3\n",
       "2002    486.2\n",
       "2003    289.2\n",
       "2004    330.1\n",
       "2005    696.7\n",
       "2006    579.6\n",
       "2007    325.4\n",
       "2008    353.4\n",
       "2009    371.1\n",
       "2010    576.8\n",
       "2011    408.8\n",
       "2012    582.8\n",
       "2013    124.2\n",
       "2014    498.7\n",
       "2015    218.1\n",
       "2016    502.7\n",
       "2017    593.5\n",
       "2018    427.6\n",
       "2019    508.4\n",
       "2020    163.0\n",
       "2021    529.3\n",
       "2022    390.9\n",
       "2023    533.0\n",
       "2024    328.6\n",
       "Name: precip, dtype: float64"
      ]
     },
     "execution_count": 25,
     "metadata": {},
     "output_type": "execute_result"
    }
   ],
   "source": [
    "core_weather.groupby(core_weather.index.year).sum()[\"precip\"]"
   ]
  },
  {
   "cell_type": "markdown",
   "id": "82af0585-751e-41f3-820b-58883e425b86",
   "metadata": {
    "id": "82af0585-751e-41f3-820b-58883e425b86"
   },
   "source": [
    "## Machine Learning phase"
   ]
  },
  {
   "cell_type": "markdown",
   "id": "f9880e92-f20e-434a-851e-02399512d89e",
   "metadata": {
    "id": "f9880e92-f20e-434a-851e-02399512d89e"
   },
   "source": [
    "Let's try to predict tomorrow's maximum temperature. So we need to create a target column with the maximum temperature of the next day to use as a target for our model to learn from. Data is in metric unit Celsius."
   ]
  },
  {
   "cell_type": "code",
   "execution_count": 26,
   "id": "e992e488-bae2-480b-8be2-2c9143d9d15b",
   "metadata": {
    "id": "e992e488-bae2-480b-8be2-2c9143d9d15b"
   },
   "outputs": [],
   "source": [
    "core_weather[\"target\"] = core_weather.shift(-1)[\"temp_max\"]"
   ]
  },
  {
   "cell_type": "code",
   "execution_count": 27,
   "id": "78b5ecaf-4250-4a5f-8205-9fad3e706dc6",
   "metadata": {
    "colab": {
     "base_uri": "https://localhost:8080/",
     "height": 455
    },
    "id": "78b5ecaf-4250-4a5f-8205-9fad3e706dc6",
    "outputId": "c215cfa6-3bf6-4569-f534-a1da0df0393a"
   },
   "outputs": [
    {
     "data": {
      "text/html": [
       "<div>\n",
       "<style scoped>\n",
       "    .dataframe tbody tr th:only-of-type {\n",
       "        vertical-align: middle;\n",
       "    }\n",
       "\n",
       "    .dataframe tbody tr th {\n",
       "        vertical-align: top;\n",
       "    }\n",
       "\n",
       "    .dataframe thead th {\n",
       "        text-align: right;\n",
       "    }\n",
       "</style>\n",
       "<table border=\"1\" class=\"dataframe\">\n",
       "  <thead>\n",
       "    <tr style=\"text-align: right;\">\n",
       "      <th></th>\n",
       "      <th>precip</th>\n",
       "      <th>temp_max</th>\n",
       "      <th>temp_min</th>\n",
       "      <th>target</th>\n",
       "    </tr>\n",
       "    <tr>\n",
       "      <th>DATE</th>\n",
       "      <th></th>\n",
       "      <th></th>\n",
       "      <th></th>\n",
       "      <th></th>\n",
       "    </tr>\n",
       "  </thead>\n",
       "  <tbody>\n",
       "    <tr>\n",
       "      <th>1960-01-01</th>\n",
       "      <td>0.0</td>\n",
       "      <td>9.4</td>\n",
       "      <td>-1.1</td>\n",
       "      <td>9.4</td>\n",
       "    </tr>\n",
       "    <tr>\n",
       "      <th>1960-01-02</th>\n",
       "      <td>0.0</td>\n",
       "      <td>9.4</td>\n",
       "      <td>-1.7</td>\n",
       "      <td>12.2</td>\n",
       "    </tr>\n",
       "    <tr>\n",
       "      <th>1960-01-03</th>\n",
       "      <td>0.0</td>\n",
       "      <td>12.2</td>\n",
       "      <td>1.7</td>\n",
       "      <td>12.2</td>\n",
       "    </tr>\n",
       "    <tr>\n",
       "      <th>1960-01-04</th>\n",
       "      <td>0.0</td>\n",
       "      <td>12.2</td>\n",
       "      <td>2.2</td>\n",
       "      <td>12.8</td>\n",
       "    </tr>\n",
       "    <tr>\n",
       "      <th>1960-01-05</th>\n",
       "      <td>0.0</td>\n",
       "      <td>12.8</td>\n",
       "      <td>0.6</td>\n",
       "      <td>11.7</td>\n",
       "    </tr>\n",
       "    <tr>\n",
       "      <th>...</th>\n",
       "      <td>...</td>\n",
       "      <td>...</td>\n",
       "      <td>...</td>\n",
       "      <td>...</td>\n",
       "    </tr>\n",
       "    <tr>\n",
       "      <th>2024-11-12</th>\n",
       "      <td>0.0</td>\n",
       "      <td>17.8</td>\n",
       "      <td>8.9</td>\n",
       "      <td>18.3</td>\n",
       "    </tr>\n",
       "    <tr>\n",
       "      <th>2024-11-13</th>\n",
       "      <td>0.0</td>\n",
       "      <td>18.3</td>\n",
       "      <td>7.2</td>\n",
       "      <td>17.2</td>\n",
       "    </tr>\n",
       "    <tr>\n",
       "      <th>2024-11-14</th>\n",
       "      <td>4.3</td>\n",
       "      <td>17.2</td>\n",
       "      <td>8.9</td>\n",
       "      <td>16.1</td>\n",
       "    </tr>\n",
       "    <tr>\n",
       "      <th>2024-11-15</th>\n",
       "      <td>0.0</td>\n",
       "      <td>16.1</td>\n",
       "      <td>7.2</td>\n",
       "      <td>16.1</td>\n",
       "    </tr>\n",
       "    <tr>\n",
       "      <th>2024-11-16</th>\n",
       "      <td>0.0</td>\n",
       "      <td>16.1</td>\n",
       "      <td>5.6</td>\n",
       "      <td>NaN</td>\n",
       "    </tr>\n",
       "  </tbody>\n",
       "</table>\n",
       "<p>17883 rows × 4 columns</p>\n",
       "</div>"
      ],
      "text/plain": [
       "            precip  temp_max  temp_min  target\n",
       "DATE                                          \n",
       "1960-01-01     0.0       9.4      -1.1     9.4\n",
       "1960-01-02     0.0       9.4      -1.7    12.2\n",
       "1960-01-03     0.0      12.2       1.7    12.2\n",
       "1960-01-04     0.0      12.2       2.2    12.8\n",
       "1960-01-05     0.0      12.8       0.6    11.7\n",
       "...            ...       ...       ...     ...\n",
       "2024-11-12     0.0      17.8       8.9    18.3\n",
       "2024-11-13     0.0      18.3       7.2    17.2\n",
       "2024-11-14     4.3      17.2       8.9    16.1\n",
       "2024-11-15     0.0      16.1       7.2    16.1\n",
       "2024-11-16     0.0      16.1       5.6     NaN\n",
       "\n",
       "[17883 rows x 4 columns]"
      ]
     },
     "execution_count": 27,
     "metadata": {},
     "output_type": "execute_result"
    }
   ],
   "source": [
    "core_weather"
   ]
  },
  {
   "cell_type": "code",
   "execution_count": 28,
   "id": "e02b2522-4836-4196-a048-1df181ed34a1",
   "metadata": {
    "id": "e02b2522-4836-4196-a048-1df181ed34a1"
   },
   "outputs": [],
   "source": [
    "# getting rid of last line due to the NaN value\n",
    "core_weather = core_weather.iloc[:-1].copy()"
   ]
  },
  {
   "cell_type": "markdown",
   "id": "47d8ed1a-0518-4116-8654-2e7f443ed4f4",
   "metadata": {
    "id": "47d8ed1a-0518-4116-8654-2e7f443ed4f4"
   },
   "source": [
    "## Training and evaluating the model"
   ]
  },
  {
   "cell_type": "code",
   "execution_count": 29,
   "id": "d05ebac5-ffa8-4765-a33d-86e2d849bfe9",
   "metadata": {
    "id": "d05ebac5-ffa8-4765-a33d-86e2d849bfe9"
   },
   "outputs": [],
   "source": [
    "from sklearn.linear_model import Ridge\n",
    "reg = Ridge(alpha=.1)"
   ]
  },
  {
   "cell_type": "code",
   "execution_count": 30,
   "id": "c3957238-2095-453a-9a23-2fa4e84bf7b3",
   "metadata": {
    "id": "c3957238-2095-453a-9a23-2fa4e84bf7b3"
   },
   "outputs": [],
   "source": [
    "predictors = [\"precip\",\"temp_max\",\"temp_min\"]"
   ]
  },
  {
   "cell_type": "code",
   "execution_count": 31,
   "id": "dc8d9118-ae49-4077-ba02-86e5647c7e4e",
   "metadata": {
    "id": "dc8d9118-ae49-4077-ba02-86e5647c7e4e"
   },
   "outputs": [],
   "source": [
    "# Training with data from 1960 to 2022\n",
    "train = core_weather.loc[:\"2022-12-31\"]"
   ]
  },
  {
   "cell_type": "code",
   "execution_count": 32,
   "id": "55c90104-c0f0-4345-b4eb-b15e11967b8d",
   "metadata": {
    "id": "55c90104-c0f0-4345-b4eb-b15e11967b8d"
   },
   "outputs": [],
   "source": [
    "# Test with data from 2023 onwards, until the last day of registration (2024-11-16).\n",
    "test = core_weather.loc[\"2023-01-01\":]"
   ]
  },
  {
   "cell_type": "markdown",
   "id": "de65f786-bee2-421d-88ff-5326f1fd5712",
   "metadata": {
    "id": "de65f786-bee2-421d-88ff-5326f1fd5712"
   },
   "source": [
    "#### Training the model with the columns \"precip\",\"temp_max\",\"temp_min\" from the list \"predictors\" trying to predict the column \"target\" from the same list."
   ]
  },
  {
   "cell_type": "code",
   "execution_count": 33,
   "id": "b309ed00-6597-42bd-96df-e7f1de1b290f",
   "metadata": {
    "colab": {
     "base_uri": "https://localhost:8080/",
     "height": 80
    },
    "id": "b309ed00-6597-42bd-96df-e7f1de1b290f",
    "outputId": "9656580c-81ed-4a69-a31e-8a5e0576cf49"
   },
   "outputs": [
    {
     "data": {
      "text/html": [
       "<style>#sk-container-id-1 {\n",
       "  /* Definition of color scheme common for light and dark mode */\n",
       "  --sklearn-color-text: black;\n",
       "  --sklearn-color-line: gray;\n",
       "  /* Definition of color scheme for unfitted estimators */\n",
       "  --sklearn-color-unfitted-level-0: #fff5e6;\n",
       "  --sklearn-color-unfitted-level-1: #f6e4d2;\n",
       "  --sklearn-color-unfitted-level-2: #ffe0b3;\n",
       "  --sklearn-color-unfitted-level-3: chocolate;\n",
       "  /* Definition of color scheme for fitted estimators */\n",
       "  --sklearn-color-fitted-level-0: #f0f8ff;\n",
       "  --sklearn-color-fitted-level-1: #d4ebff;\n",
       "  --sklearn-color-fitted-level-2: #b3dbfd;\n",
       "  --sklearn-color-fitted-level-3: cornflowerblue;\n",
       "\n",
       "  /* Specific color for light theme */\n",
       "  --sklearn-color-text-on-default-background: var(--sg-text-color, var(--theme-code-foreground, var(--jp-content-font-color1, black)));\n",
       "  --sklearn-color-background: var(--sg-background-color, var(--theme-background, var(--jp-layout-color0, white)));\n",
       "  --sklearn-color-border-box: var(--sg-text-color, var(--theme-code-foreground, var(--jp-content-font-color1, black)));\n",
       "  --sklearn-color-icon: #696969;\n",
       "\n",
       "  @media (prefers-color-scheme: dark) {\n",
       "    /* Redefinition of color scheme for dark theme */\n",
       "    --sklearn-color-text-on-default-background: var(--sg-text-color, var(--theme-code-foreground, var(--jp-content-font-color1, white)));\n",
       "    --sklearn-color-background: var(--sg-background-color, var(--theme-background, var(--jp-layout-color0, #111)));\n",
       "    --sklearn-color-border-box: var(--sg-text-color, var(--theme-code-foreground, var(--jp-content-font-color1, white)));\n",
       "    --sklearn-color-icon: #878787;\n",
       "  }\n",
       "}\n",
       "\n",
       "#sk-container-id-1 {\n",
       "  color: var(--sklearn-color-text);\n",
       "}\n",
       "\n",
       "#sk-container-id-1 pre {\n",
       "  padding: 0;\n",
       "}\n",
       "\n",
       "#sk-container-id-1 input.sk-hidden--visually {\n",
       "  border: 0;\n",
       "  clip: rect(1px 1px 1px 1px);\n",
       "  clip: rect(1px, 1px, 1px, 1px);\n",
       "  height: 1px;\n",
       "  margin: -1px;\n",
       "  overflow: hidden;\n",
       "  padding: 0;\n",
       "  position: absolute;\n",
       "  width: 1px;\n",
       "}\n",
       "\n",
       "#sk-container-id-1 div.sk-dashed-wrapped {\n",
       "  border: 1px dashed var(--sklearn-color-line);\n",
       "  margin: 0 0.4em 0.5em 0.4em;\n",
       "  box-sizing: border-box;\n",
       "  padding-bottom: 0.4em;\n",
       "  background-color: var(--sklearn-color-background);\n",
       "}\n",
       "\n",
       "#sk-container-id-1 div.sk-container {\n",
       "  /* jupyter's `normalize.less` sets `[hidden] { display: none; }`\n",
       "     but bootstrap.min.css set `[hidden] { display: none !important; }`\n",
       "     so we also need the `!important` here to be able to override the\n",
       "     default hidden behavior on the sphinx rendered scikit-learn.org.\n",
       "     See: https://github.com/scikit-learn/scikit-learn/issues/21755 */\n",
       "  display: inline-block !important;\n",
       "  position: relative;\n",
       "}\n",
       "\n",
       "#sk-container-id-1 div.sk-text-repr-fallback {\n",
       "  display: none;\n",
       "}\n",
       "\n",
       "div.sk-parallel-item,\n",
       "div.sk-serial,\n",
       "div.sk-item {\n",
       "  /* draw centered vertical line to link estimators */\n",
       "  background-image: linear-gradient(var(--sklearn-color-text-on-default-background), var(--sklearn-color-text-on-default-background));\n",
       "  background-size: 2px 100%;\n",
       "  background-repeat: no-repeat;\n",
       "  background-position: center center;\n",
       "}\n",
       "\n",
       "/* Parallel-specific style estimator block */\n",
       "\n",
       "#sk-container-id-1 div.sk-parallel-item::after {\n",
       "  content: \"\";\n",
       "  width: 100%;\n",
       "  border-bottom: 2px solid var(--sklearn-color-text-on-default-background);\n",
       "  flex-grow: 1;\n",
       "}\n",
       "\n",
       "#sk-container-id-1 div.sk-parallel {\n",
       "  display: flex;\n",
       "  align-items: stretch;\n",
       "  justify-content: center;\n",
       "  background-color: var(--sklearn-color-background);\n",
       "  position: relative;\n",
       "}\n",
       "\n",
       "#sk-container-id-1 div.sk-parallel-item {\n",
       "  display: flex;\n",
       "  flex-direction: column;\n",
       "}\n",
       "\n",
       "#sk-container-id-1 div.sk-parallel-item:first-child::after {\n",
       "  align-self: flex-end;\n",
       "  width: 50%;\n",
       "}\n",
       "\n",
       "#sk-container-id-1 div.sk-parallel-item:last-child::after {\n",
       "  align-self: flex-start;\n",
       "  width: 50%;\n",
       "}\n",
       "\n",
       "#sk-container-id-1 div.sk-parallel-item:only-child::after {\n",
       "  width: 0;\n",
       "}\n",
       "\n",
       "/* Serial-specific style estimator block */\n",
       "\n",
       "#sk-container-id-1 div.sk-serial {\n",
       "  display: flex;\n",
       "  flex-direction: column;\n",
       "  align-items: center;\n",
       "  background-color: var(--sklearn-color-background);\n",
       "  padding-right: 1em;\n",
       "  padding-left: 1em;\n",
       "}\n",
       "\n",
       "\n",
       "/* Toggleable style: style used for estimator/Pipeline/ColumnTransformer box that is\n",
       "clickable and can be expanded/collapsed.\n",
       "- Pipeline and ColumnTransformer use this feature and define the default style\n",
       "- Estimators will overwrite some part of the style using the `sk-estimator` class\n",
       "*/\n",
       "\n",
       "/* Pipeline and ColumnTransformer style (default) */\n",
       "\n",
       "#sk-container-id-1 div.sk-toggleable {\n",
       "  /* Default theme specific background. It is overwritten whether we have a\n",
       "  specific estimator or a Pipeline/ColumnTransformer */\n",
       "  background-color: var(--sklearn-color-background);\n",
       "}\n",
       "\n",
       "/* Toggleable label */\n",
       "#sk-container-id-1 label.sk-toggleable__label {\n",
       "  cursor: pointer;\n",
       "  display: block;\n",
       "  width: 100%;\n",
       "  margin-bottom: 0;\n",
       "  padding: 0.5em;\n",
       "  box-sizing: border-box;\n",
       "  text-align: center;\n",
       "}\n",
       "\n",
       "#sk-container-id-1 label.sk-toggleable__label-arrow:before {\n",
       "  /* Arrow on the left of the label */\n",
       "  content: \"▸\";\n",
       "  float: left;\n",
       "  margin-right: 0.25em;\n",
       "  color: var(--sklearn-color-icon);\n",
       "}\n",
       "\n",
       "#sk-container-id-1 label.sk-toggleable__label-arrow:hover:before {\n",
       "  color: var(--sklearn-color-text);\n",
       "}\n",
       "\n",
       "/* Toggleable content - dropdown */\n",
       "\n",
       "#sk-container-id-1 div.sk-toggleable__content {\n",
       "  max-height: 0;\n",
       "  max-width: 0;\n",
       "  overflow: hidden;\n",
       "  text-align: left;\n",
       "  /* unfitted */\n",
       "  background-color: var(--sklearn-color-unfitted-level-0);\n",
       "}\n",
       "\n",
       "#sk-container-id-1 div.sk-toggleable__content.fitted {\n",
       "  /* fitted */\n",
       "  background-color: var(--sklearn-color-fitted-level-0);\n",
       "}\n",
       "\n",
       "#sk-container-id-1 div.sk-toggleable__content pre {\n",
       "  margin: 0.2em;\n",
       "  border-radius: 0.25em;\n",
       "  color: var(--sklearn-color-text);\n",
       "  /* unfitted */\n",
       "  background-color: var(--sklearn-color-unfitted-level-0);\n",
       "}\n",
       "\n",
       "#sk-container-id-1 div.sk-toggleable__content.fitted pre {\n",
       "  /* unfitted */\n",
       "  background-color: var(--sklearn-color-fitted-level-0);\n",
       "}\n",
       "\n",
       "#sk-container-id-1 input.sk-toggleable__control:checked~div.sk-toggleable__content {\n",
       "  /* Expand drop-down */\n",
       "  max-height: 200px;\n",
       "  max-width: 100%;\n",
       "  overflow: auto;\n",
       "}\n",
       "\n",
       "#sk-container-id-1 input.sk-toggleable__control:checked~label.sk-toggleable__label-arrow:before {\n",
       "  content: \"▾\";\n",
       "}\n",
       "\n",
       "/* Pipeline/ColumnTransformer-specific style */\n",
       "\n",
       "#sk-container-id-1 div.sk-label input.sk-toggleable__control:checked~label.sk-toggleable__label {\n",
       "  color: var(--sklearn-color-text);\n",
       "  background-color: var(--sklearn-color-unfitted-level-2);\n",
       "}\n",
       "\n",
       "#sk-container-id-1 div.sk-label.fitted input.sk-toggleable__control:checked~label.sk-toggleable__label {\n",
       "  background-color: var(--sklearn-color-fitted-level-2);\n",
       "}\n",
       "\n",
       "/* Estimator-specific style */\n",
       "\n",
       "/* Colorize estimator box */\n",
       "#sk-container-id-1 div.sk-estimator input.sk-toggleable__control:checked~label.sk-toggleable__label {\n",
       "  /* unfitted */\n",
       "  background-color: var(--sklearn-color-unfitted-level-2);\n",
       "}\n",
       "\n",
       "#sk-container-id-1 div.sk-estimator.fitted input.sk-toggleable__control:checked~label.sk-toggleable__label {\n",
       "  /* fitted */\n",
       "  background-color: var(--sklearn-color-fitted-level-2);\n",
       "}\n",
       "\n",
       "#sk-container-id-1 div.sk-label label.sk-toggleable__label,\n",
       "#sk-container-id-1 div.sk-label label {\n",
       "  /* The background is the default theme color */\n",
       "  color: var(--sklearn-color-text-on-default-background);\n",
       "}\n",
       "\n",
       "/* On hover, darken the color of the background */\n",
       "#sk-container-id-1 div.sk-label:hover label.sk-toggleable__label {\n",
       "  color: var(--sklearn-color-text);\n",
       "  background-color: var(--sklearn-color-unfitted-level-2);\n",
       "}\n",
       "\n",
       "/* Label box, darken color on hover, fitted */\n",
       "#sk-container-id-1 div.sk-label.fitted:hover label.sk-toggleable__label.fitted {\n",
       "  color: var(--sklearn-color-text);\n",
       "  background-color: var(--sklearn-color-fitted-level-2);\n",
       "}\n",
       "\n",
       "/* Estimator label */\n",
       "\n",
       "#sk-container-id-1 div.sk-label label {\n",
       "  font-family: monospace;\n",
       "  font-weight: bold;\n",
       "  display: inline-block;\n",
       "  line-height: 1.2em;\n",
       "}\n",
       "\n",
       "#sk-container-id-1 div.sk-label-container {\n",
       "  text-align: center;\n",
       "}\n",
       "\n",
       "/* Estimator-specific */\n",
       "#sk-container-id-1 div.sk-estimator {\n",
       "  font-family: monospace;\n",
       "  border: 1px dotted var(--sklearn-color-border-box);\n",
       "  border-radius: 0.25em;\n",
       "  box-sizing: border-box;\n",
       "  margin-bottom: 0.5em;\n",
       "  /* unfitted */\n",
       "  background-color: var(--sklearn-color-unfitted-level-0);\n",
       "}\n",
       "\n",
       "#sk-container-id-1 div.sk-estimator.fitted {\n",
       "  /* fitted */\n",
       "  background-color: var(--sklearn-color-fitted-level-0);\n",
       "}\n",
       "\n",
       "/* on hover */\n",
       "#sk-container-id-1 div.sk-estimator:hover {\n",
       "  /* unfitted */\n",
       "  background-color: var(--sklearn-color-unfitted-level-2);\n",
       "}\n",
       "\n",
       "#sk-container-id-1 div.sk-estimator.fitted:hover {\n",
       "  /* fitted */\n",
       "  background-color: var(--sklearn-color-fitted-level-2);\n",
       "}\n",
       "\n",
       "/* Specification for estimator info (e.g. \"i\" and \"?\") */\n",
       "\n",
       "/* Common style for \"i\" and \"?\" */\n",
       "\n",
       ".sk-estimator-doc-link,\n",
       "a:link.sk-estimator-doc-link,\n",
       "a:visited.sk-estimator-doc-link {\n",
       "  float: right;\n",
       "  font-size: smaller;\n",
       "  line-height: 1em;\n",
       "  font-family: monospace;\n",
       "  background-color: var(--sklearn-color-background);\n",
       "  border-radius: 1em;\n",
       "  height: 1em;\n",
       "  width: 1em;\n",
       "  text-decoration: none !important;\n",
       "  margin-left: 1ex;\n",
       "  /* unfitted */\n",
       "  border: var(--sklearn-color-unfitted-level-1) 1pt solid;\n",
       "  color: var(--sklearn-color-unfitted-level-1);\n",
       "}\n",
       "\n",
       ".sk-estimator-doc-link.fitted,\n",
       "a:link.sk-estimator-doc-link.fitted,\n",
       "a:visited.sk-estimator-doc-link.fitted {\n",
       "  /* fitted */\n",
       "  border: var(--sklearn-color-fitted-level-1) 1pt solid;\n",
       "  color: var(--sklearn-color-fitted-level-1);\n",
       "}\n",
       "\n",
       "/* On hover */\n",
       "div.sk-estimator:hover .sk-estimator-doc-link:hover,\n",
       ".sk-estimator-doc-link:hover,\n",
       "div.sk-label-container:hover .sk-estimator-doc-link:hover,\n",
       ".sk-estimator-doc-link:hover {\n",
       "  /* unfitted */\n",
       "  background-color: var(--sklearn-color-unfitted-level-3);\n",
       "  color: var(--sklearn-color-background);\n",
       "  text-decoration: none;\n",
       "}\n",
       "\n",
       "div.sk-estimator.fitted:hover .sk-estimator-doc-link.fitted:hover,\n",
       ".sk-estimator-doc-link.fitted:hover,\n",
       "div.sk-label-container:hover .sk-estimator-doc-link.fitted:hover,\n",
       ".sk-estimator-doc-link.fitted:hover {\n",
       "  /* fitted */\n",
       "  background-color: var(--sklearn-color-fitted-level-3);\n",
       "  color: var(--sklearn-color-background);\n",
       "  text-decoration: none;\n",
       "}\n",
       "\n",
       "/* Span, style for the box shown on hovering the info icon */\n",
       ".sk-estimator-doc-link span {\n",
       "  display: none;\n",
       "  z-index: 9999;\n",
       "  position: relative;\n",
       "  font-weight: normal;\n",
       "  right: .2ex;\n",
       "  padding: .5ex;\n",
       "  margin: .5ex;\n",
       "  width: min-content;\n",
       "  min-width: 20ex;\n",
       "  max-width: 50ex;\n",
       "  color: var(--sklearn-color-text);\n",
       "  box-shadow: 2pt 2pt 4pt #999;\n",
       "  /* unfitted */\n",
       "  background: var(--sklearn-color-unfitted-level-0);\n",
       "  border: .5pt solid var(--sklearn-color-unfitted-level-3);\n",
       "}\n",
       "\n",
       ".sk-estimator-doc-link.fitted span {\n",
       "  /* fitted */\n",
       "  background: var(--sklearn-color-fitted-level-0);\n",
       "  border: var(--sklearn-color-fitted-level-3);\n",
       "}\n",
       "\n",
       ".sk-estimator-doc-link:hover span {\n",
       "  display: block;\n",
       "}\n",
       "\n",
       "/* \"?\"-specific style due to the `<a>` HTML tag */\n",
       "\n",
       "#sk-container-id-1 a.estimator_doc_link {\n",
       "  float: right;\n",
       "  font-size: 1rem;\n",
       "  line-height: 1em;\n",
       "  font-family: monospace;\n",
       "  background-color: var(--sklearn-color-background);\n",
       "  border-radius: 1rem;\n",
       "  height: 1rem;\n",
       "  width: 1rem;\n",
       "  text-decoration: none;\n",
       "  /* unfitted */\n",
       "  color: var(--sklearn-color-unfitted-level-1);\n",
       "  border: var(--sklearn-color-unfitted-level-1) 1pt solid;\n",
       "}\n",
       "\n",
       "#sk-container-id-1 a.estimator_doc_link.fitted {\n",
       "  /* fitted */\n",
       "  border: var(--sklearn-color-fitted-level-1) 1pt solid;\n",
       "  color: var(--sklearn-color-fitted-level-1);\n",
       "}\n",
       "\n",
       "/* On hover */\n",
       "#sk-container-id-1 a.estimator_doc_link:hover {\n",
       "  /* unfitted */\n",
       "  background-color: var(--sklearn-color-unfitted-level-3);\n",
       "  color: var(--sklearn-color-background);\n",
       "  text-decoration: none;\n",
       "}\n",
       "\n",
       "#sk-container-id-1 a.estimator_doc_link.fitted:hover {\n",
       "  /* fitted */\n",
       "  background-color: var(--sklearn-color-fitted-level-3);\n",
       "}\n",
       "</style><div id=\"sk-container-id-1\" class=\"sk-top-container\"><div class=\"sk-text-repr-fallback\"><pre>Ridge(alpha=0.1)</pre><b>In a Jupyter environment, please rerun this cell to show the HTML representation or trust the notebook. <br />On GitHub, the HTML representation is unable to render, please try loading this page with nbviewer.org.</b></div><div class=\"sk-container\" hidden><div class=\"sk-item\"><div class=\"sk-estimator fitted sk-toggleable\"><input class=\"sk-toggleable__control sk-hidden--visually\" id=\"sk-estimator-id-1\" type=\"checkbox\" checked><label for=\"sk-estimator-id-1\" class=\"sk-toggleable__label fitted sk-toggleable__label-arrow fitted\">&nbsp;&nbsp;Ridge<a class=\"sk-estimator-doc-link fitted\" rel=\"noreferrer\" target=\"_blank\" href=\"https://scikit-learn.org/1.5/modules/generated/sklearn.linear_model.Ridge.html\">?<span>Documentation for Ridge</span></a><span class=\"sk-estimator-doc-link fitted\">i<span>Fitted</span></span></label><div class=\"sk-toggleable__content fitted\"><pre>Ridge(alpha=0.1)</pre></div> </div></div></div></div>"
      ],
      "text/plain": [
       "Ridge(alpha=0.1)"
      ]
     },
     "execution_count": 33,
     "metadata": {},
     "output_type": "execute_result"
    }
   ],
   "source": [
    "reg.fit(train[predictors], train[\"target\"])"
   ]
  },
  {
   "cell_type": "markdown",
   "id": "40f5a5bc-c96e-42a1-b6c2-52007bcc1b1c",
   "metadata": {
    "id": "40f5a5bc-c96e-42a1-b6c2-52007bcc1b1c"
   },
   "source": [
    "#### Building a list of predictions made by the model"
   ]
  },
  {
   "cell_type": "code",
   "execution_count": 34,
   "id": "b8865304-8b2a-42a6-895c-672231364bde",
   "metadata": {
    "id": "b8865304-8b2a-42a6-895c-672231364bde"
   },
   "outputs": [],
   "source": [
    "predictions = reg.predict(test[predictors])"
   ]
  },
  {
   "cell_type": "markdown",
   "id": "bd61f482-b7dc-4c8b-8c94-af15fd28595b",
   "metadata": {
    "id": "bd61f482-b7dc-4c8b-8c94-af15fd28595b"
   },
   "source": [
    "#### Evaluating the model. On average, our model is off by 1.87 degrees Celsius. Not a bad place to start."
   ]
  },
  {
   "cell_type": "code",
   "execution_count": 35,
   "id": "cbfb7013-aca4-4106-93a4-f164c5280451",
   "metadata": {
    "colab": {
     "base_uri": "https://localhost:8080/"
    },
    "id": "cbfb7013-aca4-4106-93a4-f164c5280451",
    "outputId": "5746bffa-0e23-418d-f660-921ec3658d2d"
   },
   "outputs": [
    {
     "data": {
      "text/plain": [
       "1.8731246433611906"
      ]
     },
     "execution_count": 35,
     "metadata": {},
     "output_type": "execute_result"
    }
   ],
   "source": [
    "from sklearn.metrics import mean_absolute_error\n",
    "mean_absolute_error(test[\"target\"], predictions)"
   ]
  },
  {
   "cell_type": "code",
   "execution_count": 62,
   "id": "aec60475-36c6-4b02-8456-6e6e9c7f863d",
   "metadata": {
    "id": "aec60475-36c6-4b02-8456-6e6e9c7f863d"
   },
   "outputs": [],
   "source": [
    "combined = pd.concat([test[\"target\"], pd.Series(predictions, index=test.index)], axis=1)\n",
    "combined.columns = [\"actual\",\"predictions\"]"
   ]
  },
  {
   "cell_type": "code",
   "execution_count": 63,
   "id": "4f90c471-03f9-488f-825f-71fda0af6cd6",
   "metadata": {
    "colab": {
     "base_uri": "https://localhost:8080/",
     "height": 483
    },
    "id": "4f90c471-03f9-488f-825f-71fda0af6cd6",
    "outputId": "bd7fe6f3-79dc-43bb-a65a-dfcc6b65926a"
   },
   "outputs": [
    {
     "data": {
      "text/plain": [
       "<Axes: xlabel='DATE'>"
      ]
     },
     "execution_count": 63,
     "metadata": {},
     "output_type": "execute_result"
    },
    {
     "data": {
      "image/png": "[encoded data removed]",
      "text/plain": [
       "<Figure size 640x480 with 1 Axes>"
      ]
     },
     "metadata": {},
     "output_type": "display_data"
    }
   ],
   "source": [
    "combined.plot()"
   ]
  },
  {
   "cell_type": "markdown",
   "id": "10459566-6514-4188-b677-ed6d7efdf009",
   "metadata": {
    "id": "10459566-6514-4188-b677-ed6d7efdf009"
   },
   "source": [
    "#### Evaluating the regression coefficients (r²) to verify how each input variable (precip, temp_max, temp_min) influenced the model."
   ]
  },
  {
   "cell_type": "code",
   "execution_count": 64,
   "id": "e9f44621-7fd9-43b9-b56a-985ca8c33282",
   "metadata": {
    "colab": {
     "base_uri": "https://localhost:8080/"
    },
    "id": "e9f44621-7fd9-43b9-b56a-985ca8c33282",
    "outputId": "421ef1de-5733-4c31-a91b-44401ee41add"
   },
   "outputs": [
    {
     "data": {
      "text/plain": [
       "array([-0.01940082,  0.54369363,  0.02352511,  0.18776989, -1.72153083,\n",
       "       -0.01068526,  0.07361464,  0.07361464,  0.08407699])"
      ]
     },
     "execution_count": 64,
     "metadata": {},
     "output_type": "execute_result"
    }
   ],
   "source": [
    "reg.coef_"
   ]
  },
  {
   "cell_type": "markdown",
   "id": "cbf19302-8815-42d3-af52-866a3d47189b",
   "metadata": {
    "id": "cbf19302-8815-42d3-af52-866a3d47189b"
   },
   "source": [
    "#### Creating a python function to make predictions process more convenient"
   ]
  },
  {
   "cell_type": "code",
   "execution_count": 65,
   "id": "54ba243e-824c-4856-acca-be44c56f1a68",
   "metadata": {
    "id": "54ba243e-824c-4856-acca-be44c56f1a68"
   },
   "outputs": [],
   "source": [
    "def create_predictions (predictors, core_weather, reg):\n",
    "    train = core_weather.loc[:\"2022-12-31\"]\n",
    "    test = core_weather.loc[\"2023-01-01\":]\n",
    "    reg.fit(train[predictors], train[\"target\"])\n",
    "    predictions = reg.predict(test[predictors])\n",
    "    error = mean_absolute_error(test[\"target\"], predictions)\n",
    "    combined = pd.concat([test[\"target\"], pd.Series(predictions, index=test.index)], axis=1)\n",
    "    combined.columns = [\"actual\",\"predictions\"]\n",
    "    return print(error), combined"
   ]
  },
  {
   "cell_type": "markdown",
   "id": "55b3c0ac-8602-4044-b8d7-e9966c26c1e0",
   "metadata": {
    "id": "55b3c0ac-8602-4044-b8d7-e9966c26c1e0"
   },
   "source": [
    "### Creating new indicators"
   ]
  },
  {
   "cell_type": "markdown",
   "id": "80d4709e-98d9-4e2f-9a16-f72bf5f124cb",
   "metadata": {
    "id": "80d4709e-98d9-4e2f-9a16-f72bf5f124cb"
   },
   "source": [
    "#### Creating a column with the average of \"temp_max\" for the last 30 days."
   ]
  },
  {
   "cell_type": "code",
   "execution_count": 66,
   "id": "aa9ab606-cbee-43f1-9000-c3e939aaf348",
   "metadata": {
    "id": "aa9ab606-cbee-43f1-9000-c3e939aaf348"
   },
   "outputs": [],
   "source": [
    "core_weather[\"month_max\"] = core_weather[\"temp_max\"].rolling(30).mean()"
   ]
  },
  {
   "cell_type": "markdown",
   "id": "6c3a5432-ad42-4e00-a83a-882e63547a7d",
   "metadata": {
    "id": "6c3a5432-ad42-4e00-a83a-882e63547a7d"
   },
   "source": [
    "#### It is important to note that this indicator generates 30 initial lines with NaN values, since the average is calculated from 30 values. Therefore, it is necessary to remove the first 30 lines."
   ]
  },
  {
   "cell_type": "code",
   "execution_count": 67,
   "id": "437d9997-7f24-44a4-8e66-80f4bf5cbfa9",
   "metadata": {
    "id": "437d9997-7f24-44a4-8e66-80f4bf5cbfa9"
   },
   "outputs": [],
   "source": [
    "core_weather = core_weather.iloc[30:].copy()"
   ]
  },
  {
   "cell_type": "raw",
   "id": "9f5bba49-2632-4f19-a2f7-018732f2e988",
   "metadata": {
    "id": "9f5bba49-2632-4f19-a2f7-018732f2e988",
    "jp-MarkdownHeadingCollapsed": true
   },
   "source": [
    "#### Creating a column with the relationship between the average of the last 30 days and the current day, to know how much the current day differs from the average of the last 30 days."
   ]
  },
  {
   "cell_type": "code",
   "execution_count": 68,
   "id": "7e44b8c4-ee02-4c25-8bd1-684f3a079fb9",
   "metadata": {
    "id": "7e44b8c4-ee02-4c25-8bd1-684f3a079fb9"
   },
   "outputs": [],
   "source": [
    "core_weather[\"month_day_max\"] = core_weather[\"month_max\"] / core_weather[\"temp_max\"]"
   ]
  },
  {
   "cell_type": "markdown",
   "id": "5b377676-d139-4f2a-8a05-526102209d23",
   "metadata": {
    "id": "5b377676-d139-4f2a-8a05-526102209d23"
   },
   "source": [
    "#### Creating a column with the relationship between maximum and minimum temperature."
   ]
  },
  {
   "cell_type": "code",
   "execution_count": 69,
   "id": "2e45993d-f3b6-4798-8eb1-fc8e745ebf81",
   "metadata": {
    "id": "2e45993d-f3b6-4798-8eb1-fc8e745ebf81"
   },
   "outputs": [],
   "source": [
    "core_weather[\"max_min\"] = core_weather[\"temp_max\"] / core_weather[\"temp_min\"]"
   ]
  },
  {
   "cell_type": "code",
   "execution_count": 70,
   "id": "2630df38-ba64-4091-8fa6-cb3908694ec9",
   "metadata": {
    "id": "2630df38-ba64-4091-8fa6-cb3908694ec9"
   },
   "outputs": [],
   "source": [
    "# Updating the predictors\n",
    "predictors = [\"precip\",\"temp_max\",\"temp_min\", \"month_max\", \"month_day_max\", \"max_min\"]"
   ]
  },
  {
   "cell_type": "markdown",
   "id": "RLoQopO1YWOx",
   "metadata": {
    "id": "RLoQopO1YWOx"
   },
   "source": [
    "#### Redoing the forecasts, now including the new indicators made."
   ]
  },
  {
   "cell_type": "code",
   "execution_count": 71,
   "id": "8b825eda-bb8a-4f89-b4a5-d53f723f945b",
   "metadata": {
    "colab": {
     "base_uri": "https://localhost:8080/"
    },
    "id": "8b825eda-bb8a-4f89-b4a5-d53f723f945b",
    "outputId": "21c7ff6b-0581-4d95-cbb2-3c0d07ef90a0"
   },
   "outputs": [
    {
     "name": "stdout",
     "output_type": "stream",
     "text": [
      "Infinite values ​​in columns:\n",
      "precip              0\n",
      "temp_max            0\n",
      "temp_min            0\n",
      "target              0\n",
      "month_max           0\n",
      "month_day_max       0\n",
      "max_min            46\n",
      "monthy_avg          0\n",
      "day_of_year_avg     0\n",
      "dtype: int64\n",
      "\n",
      "Very large values ​​in columns:\n",
      "precip              0\n",
      "temp_max            0\n",
      "temp_min            0\n",
      "target              0\n",
      "month_max           0\n",
      "month_day_max       0\n",
      "max_min            46\n",
      "monthy_avg          0\n",
      "day_of_year_avg     0\n",
      "dtype: int64\n"
     ]
    }
   ],
   "source": [
    "import pandas as pd\n",
    "import numpy as np\n",
    "\n",
    "# Check for infinite values\n",
    "print(\"Infinite values ​​in columns:\")\n",
    "print(core_weather.isin([np.inf, -np.inf]).sum())\n",
    "\n",
    "# Check for very large values\n",
    "print(\"\\nVery large values ​​in columns:\")\n",
    "print((core_weather > np.finfo(np.float64).max).sum())"
   ]
  },
  {
   "cell_type": "code",
   "execution_count": 72,
   "id": "e04fd157-5cb5-462e-abb0-1fd36ec4bc93",
   "metadata": {
    "colab": {
     "base_uri": "https://localhost:8080/"
    },
    "id": "e04fd157-5cb5-462e-abb0-1fd36ec4bc93",
    "outputId": "bede371a-98bf-4341-b2ed-2e48f59f0e06"
   },
   "outputs": [
    {
     "name": "stdout",
     "output_type": "stream",
     "text": [
      "\n",
      "DataFrame after cleaning and scaling:\n",
      "         precip  temp_max  temp_min    target  month_max  month_day_max  \\\n",
      "0     -0.249533 -1.282802 -1.108141 -0.939810  -0.930694       1.059629   \n",
      "1     -0.249533 -0.939736 -1.561589 -0.446635  -0.952411       0.254329   \n",
      "2     -0.249533 -0.446578 -0.521327 -0.446635  -0.936359      -0.575394   \n",
      "3     -0.249533 -0.446578  0.225528 -0.939810  -0.920307      -0.555850   \n",
      "4      0.442413 -0.939736  0.518935 -0.811156  -0.931638       0.283661   \n",
      "...         ...       ...       ...       ...        ...            ...   \n",
      "17817  1.197264 -0.446578  0.385568 -0.210768   0.959680       1.733111   \n",
      "17818 -0.249533 -0.210720 -0.361287 -0.103556   0.881308       1.171130   \n",
      "17819 -0.249533 -0.103512 -0.814734 -0.339422   0.859591       0.953470   \n",
      "17820  0.652094 -0.339370 -0.361287 -0.575289   0.812379       1.336734   \n",
      "17821 -0.249533 -0.575228 -0.814734 -0.575289   0.765166       1.772370   \n",
      "\n",
      "        max_min  monthy_avg  day_of_year_avg  \n",
      "0     -0.009041   -1.656514        -1.575301  \n",
      "1      0.586575   -1.417530        -1.120380  \n",
      "2     -0.052818   -1.108842        -0.466431  \n",
      "3     -0.310234   -0.954499        -0.466431  \n",
      "4     -0.474650   -0.999308        -1.120380  \n",
      "...         ...         ...              ...  \n",
      "17817 -0.349365   -0.334032        -0.235489  \n",
      "17818 -0.058928   -0.333914        -0.226205  \n",
      "17819  0.215795   -0.333694        -0.267983  \n",
      "17820 -0.093120   -0.333699        -0.285971  \n",
      "17821  0.060823   -0.333931        -0.301058  \n",
      "\n",
      "[17822 rows x 9 columns]\n",
      "\n",
      "Remaining infinite values ​​in columns:\n",
      "precip             0\n",
      "temp_max           0\n",
      "temp_min           0\n",
      "target             0\n",
      "month_max          0\n",
      "month_day_max      0\n",
      "max_min            0\n",
      "monthy_avg         0\n",
      "day_of_year_avg    0\n",
      "dtype: int64\n",
      "\n",
      "Remaining very large values ​​in columns:\n",
      "precip             0\n",
      "temp_max           0\n",
      "temp_min           0\n",
      "target             0\n",
      "month_max          0\n",
      "month_day_max      0\n",
      "max_min            0\n",
      "monthy_avg         0\n",
      "day_of_year_avg    0\n",
      "dtype: int64\n"
     ]
    }
   ],
   "source": [
    "import pandas as pd\n",
    "import numpy as np\n",
    "from sklearn.preprocessing import StandardScaler\n",
    "\n",
    "# Replace infinite values ​​with NaN\n",
    "core_weather.replace([np.inf, -np.inf], np.nan, inplace=True)\n",
    "\n",
    "# Fill NaN values ​​with the mean of the column\n",
    "core_weather.fillna(core_weather.mean(), inplace=True)\n",
    "\n",
    "# Scale the data\n",
    "scaler = StandardScaler()\n",
    "core_weather_scaled = pd.DataFrame(scaler.fit_transform(core_weather), columns=core_weather.columns)\n",
    "\n",
    "print(\"\\nDataFrame after cleaning and scaling:\")\n",
    "print(core_weather_scaled)\n",
    "\n",
    "# Validate the data\n",
    "print(\"\\nRemaining infinite values ​​in columns:\")\n",
    "print(core_weather_scaled.isin([np.inf, -np.inf]).sum())\n",
    "\n",
    "print(\"\\nRemaining very large values ​​in columns:\")\n",
    "print((core_weather_scaled > np.finfo(np.float64).max).sum())"
   ]
  },
  {
   "cell_type": "code",
   "execution_count": 73,
   "id": "462b7f0a-7b6a-470f-9b26-d3ff741369e2",
   "metadata": {
    "id": "462b7f0a-7b6a-470f-9b26-d3ff741369e2"
   },
   "outputs": [
    {
     "name": "stdout",
     "output_type": "stream",
     "text": [
      "1.8192411136158977\n"
     ]
    }
   ],
   "source": [
    "error, combined = create_predictions(predictors, core_weather, reg)"
   ]
  },
  {
   "cell_type": "markdown",
   "id": "fa6ce231-b38b-4252-8aeb-5f8289f283eb",
   "metadata": {
    "id": "fa6ce231-b38b-4252-8aeb-5f8289f283eb"
   },
   "source": [
    "#### With the addition of these new indicators, we were able to reduce the error from 1,876 degrees Celsius to:"
   ]
  },
  {
   "cell_type": "code",
   "execution_count": 74,
   "id": "ba31bf2f-044e-4858-b1a2-294951250093",
   "metadata": {
    "colab": {
     "base_uri": "https://localhost:8080/"
    },
    "id": "ba31bf2f-044e-4858-b1a2-294951250093",
    "outputId": "959a9bba-d99d-45e5-820b-65ffe1d51cb2"
   },
   "outputs": [],
   "source": [
    "error"
   ]
  },
  {
   "cell_type": "code",
   "execution_count": 75,
   "id": "70318897-9829-4af2-bf00-5ef00548b70f",
   "metadata": {
    "colab": {
     "base_uri": "https://localhost:8080/",
     "height": 483
    },
    "id": "70318897-9829-4af2-bf00-5ef00548b70f",
    "outputId": "ebc95b6a-cd37-4e45-a258-67bb48d128d7"
   },
   "outputs": [
    {
     "data": {
      "text/plain": [
       "<Axes: xlabel='DATE'>"
      ]
     },
     "execution_count": 75,
     "metadata": {},
     "output_type": "execute_result"
    },
    {
     "data": {
      "image/png": "[encoded data removed]",
      "text/plain": [
       "<Figure size 640x480 with 1 Axes>"
      ]
     },
     "metadata": {},
     "output_type": "display_data"
    }
   ],
   "source": [
    "combined.plot()"
   ]
  },
  {
   "cell_type": "markdown",
   "id": "a0846fbf-ff4a-4c86-a60d-f4c0d594d9f0",
   "metadata": {
    "id": "a0846fbf-ff4a-4c86-a60d-f4c0d594d9f0"
   },
   "source": [
    "#### We can try to create and add even more indicators."
   ]
  },
  {
   "cell_type": "code",
   "execution_count": 76,
   "id": "epJV6urkFRKp",
   "metadata": {
    "id": "epJV6urkFRKp"
   },
   "outputs": [],
   "source": [
    "core_weather[\"monthy_avg\"] = core_weather[\"temp_max\"].groupby(core_weather.index.month).transform(lambda x: x.expanding(1).mean())"
   ]
  },
  {
   "cell_type": "code",
   "execution_count": 77,
   "id": "A9UTHVTZEgQe",
   "metadata": {
    "colab": {
     "base_uri": "https://localhost:8080/",
     "height": 455
    },
    "id": "A9UTHVTZEgQe",
    "outputId": "c86801a4-74d3-4341-9811-c0805e30efdb"
   },
   "outputs": [
    {
     "data": {
      "text/html": [
       "<div>\n",
       "<style scoped>\n",
       "    .dataframe tbody tr th:only-of-type {\n",
       "        vertical-align: middle;\n",
       "    }\n",
       "\n",
       "    .dataframe tbody tr th {\n",
       "        vertical-align: top;\n",
       "    }\n",
       "\n",
       "    .dataframe thead th {\n",
       "        text-align: right;\n",
       "    }\n",
       "</style>\n",
       "<table border=\"1\" class=\"dataframe\">\n",
       "  <thead>\n",
       "    <tr style=\"text-align: right;\">\n",
       "      <th></th>\n",
       "      <th>precip</th>\n",
       "      <th>temp_max</th>\n",
       "      <th>temp_min</th>\n",
       "      <th>target</th>\n",
       "      <th>month_max</th>\n",
       "      <th>month_day_max</th>\n",
       "      <th>max_min</th>\n",
       "      <th>monthy_avg</th>\n",
       "      <th>day_of_year_avg</th>\n",
       "    </tr>\n",
       "    <tr>\n",
       "      <th>DATE</th>\n",
       "      <th></th>\n",
       "      <th></th>\n",
       "      <th></th>\n",
       "      <th></th>\n",
       "      <th></th>\n",
       "      <th></th>\n",
       "      <th></th>\n",
       "      <th></th>\n",
       "      <th></th>\n",
       "    </tr>\n",
       "  </thead>\n",
       "  <tbody>\n",
       "    <tr>\n",
       "      <th>1960-03-01</th>\n",
       "      <td>0.0</td>\n",
       "      <td>12.8</td>\n",
       "      <td>6.1</td>\n",
       "      <td>14.4</td>\n",
       "      <td>15.493333</td>\n",
       "      <td>1.210417</td>\n",
       "      <td>2.098361</td>\n",
       "      <td>12.800000</td>\n",
       "      <td>12.800000</td>\n",
       "    </tr>\n",
       "    <tr>\n",
       "      <th>1960-03-02</th>\n",
       "      <td>0.0</td>\n",
       "      <td>14.4</td>\n",
       "      <td>4.4</td>\n",
       "      <td>16.7</td>\n",
       "      <td>15.416667</td>\n",
       "      <td>1.070602</td>\n",
       "      <td>3.272727</td>\n",
       "      <td>13.600000</td>\n",
       "      <td>14.400000</td>\n",
       "    </tr>\n",
       "    <tr>\n",
       "      <th>1960-03-03</th>\n",
       "      <td>0.0</td>\n",
       "      <td>16.7</td>\n",
       "      <td>8.3</td>\n",
       "      <td>16.7</td>\n",
       "      <td>15.473333</td>\n",
       "      <td>0.926547</td>\n",
       "      <td>2.012048</td>\n",
       "      <td>14.633333</td>\n",
       "      <td>16.700000</td>\n",
       "    </tr>\n",
       "    <tr>\n",
       "      <th>1960-03-04</th>\n",
       "      <td>0.0</td>\n",
       "      <td>16.7</td>\n",
       "      <td>11.1</td>\n",
       "      <td>14.4</td>\n",
       "      <td>15.530000</td>\n",
       "      <td>0.929940</td>\n",
       "      <td>1.504505</td>\n",
       "      <td>15.150000</td>\n",
       "      <td>16.700000</td>\n",
       "    </tr>\n",
       "    <tr>\n",
       "      <th>1960-03-05</th>\n",
       "      <td>3.3</td>\n",
       "      <td>14.4</td>\n",
       "      <td>12.2</td>\n",
       "      <td>15.0</td>\n",
       "      <td>15.490000</td>\n",
       "      <td>1.075694</td>\n",
       "      <td>1.180328</td>\n",
       "      <td>15.000000</td>\n",
       "      <td>14.400000</td>\n",
       "    </tr>\n",
       "    <tr>\n",
       "      <th>...</th>\n",
       "      <td>...</td>\n",
       "      <td>...</td>\n",
       "      <td>...</td>\n",
       "      <td>...</td>\n",
       "      <td>...</td>\n",
       "      <td>...</td>\n",
       "      <td>...</td>\n",
       "      <td>...</td>\n",
       "      <td>...</td>\n",
       "    </tr>\n",
       "    <tr>\n",
       "      <th>2024-11-11</th>\n",
       "      <td>6.9</td>\n",
       "      <td>16.7</td>\n",
       "      <td>11.7</td>\n",
       "      <td>17.8</td>\n",
       "      <td>22.166667</td>\n",
       "      <td>1.327345</td>\n",
       "      <td>1.427350</td>\n",
       "      <td>17.227016</td>\n",
       "      <td>17.512245</td>\n",
       "    </tr>\n",
       "    <tr>\n",
       "      <th>2024-11-12</th>\n",
       "      <td>0.0</td>\n",
       "      <td>17.8</td>\n",
       "      <td>8.9</td>\n",
       "      <td>18.3</td>\n",
       "      <td>21.890000</td>\n",
       "      <td>1.229775</td>\n",
       "      <td>2.000000</td>\n",
       "      <td>17.227410</td>\n",
       "      <td>17.544898</td>\n",
       "    </tr>\n",
       "    <tr>\n",
       "      <th>2024-11-13</th>\n",
       "      <td>0.0</td>\n",
       "      <td>18.3</td>\n",
       "      <td>7.2</td>\n",
       "      <td>17.2</td>\n",
       "      <td>21.813333</td>\n",
       "      <td>1.191985</td>\n",
       "      <td>2.541667</td>\n",
       "      <td>17.228149</td>\n",
       "      <td>17.397959</td>\n",
       "    </tr>\n",
       "    <tr>\n",
       "      <th>2024-11-14</th>\n",
       "      <td>4.3</td>\n",
       "      <td>17.2</td>\n",
       "      <td>8.9</td>\n",
       "      <td>16.1</td>\n",
       "      <td>21.646667</td>\n",
       "      <td>1.258527</td>\n",
       "      <td>1.932584</td>\n",
       "      <td>17.228129</td>\n",
       "      <td>17.334694</td>\n",
       "    </tr>\n",
       "    <tr>\n",
       "      <th>2024-11-15</th>\n",
       "      <td>0.0</td>\n",
       "      <td>16.1</td>\n",
       "      <td>7.2</td>\n",
       "      <td>16.1</td>\n",
       "      <td>21.480000</td>\n",
       "      <td>1.334161</td>\n",
       "      <td>2.236111</td>\n",
       "      <td>17.227354</td>\n",
       "      <td>17.281633</td>\n",
       "    </tr>\n",
       "  </tbody>\n",
       "</table>\n",
       "<p>17822 rows × 9 columns</p>\n",
       "</div>"
      ],
      "text/plain": [
       "            precip  temp_max  temp_min  target  month_max  month_day_max  \\\n",
       "DATE                                                                       \n",
       "1960-03-01     0.0      12.8       6.1    14.4  15.493333       1.210417   \n",
       "1960-03-02     0.0      14.4       4.4    16.7  15.416667       1.070602   \n",
       "1960-03-03     0.0      16.7       8.3    16.7  15.473333       0.926547   \n",
       "1960-03-04     0.0      16.7      11.1    14.4  15.530000       0.929940   \n",
       "1960-03-05     3.3      14.4      12.2    15.0  15.490000       1.075694   \n",
       "...            ...       ...       ...     ...        ...            ...   \n",
       "2024-11-11     6.9      16.7      11.7    17.8  22.166667       1.327345   \n",
       "2024-11-12     0.0      17.8       8.9    18.3  21.890000       1.229775   \n",
       "2024-11-13     0.0      18.3       7.2    17.2  21.813333       1.191985   \n",
       "2024-11-14     4.3      17.2       8.9    16.1  21.646667       1.258527   \n",
       "2024-11-15     0.0      16.1       7.2    16.1  21.480000       1.334161   \n",
       "\n",
       "             max_min  monthy_avg  day_of_year_avg  \n",
       "DATE                                               \n",
       "1960-03-01  2.098361   12.800000        12.800000  \n",
       "1960-03-02  3.272727   13.600000        14.400000  \n",
       "1960-03-03  2.012048   14.633333        16.700000  \n",
       "1960-03-04  1.504505   15.150000        16.700000  \n",
       "1960-03-05  1.180328   15.000000        14.400000  \n",
       "...              ...         ...              ...  \n",
       "2024-11-11  1.427350   17.227016        17.512245  \n",
       "2024-11-12  2.000000   17.227410        17.544898  \n",
       "2024-11-13  2.541667   17.228149        17.397959  \n",
       "2024-11-14  1.932584   17.228129        17.334694  \n",
       "2024-11-15  2.236111   17.227354        17.281633  \n",
       "\n",
       "[17822 rows x 9 columns]"
      ]
     },
     "execution_count": 77,
     "metadata": {},
     "output_type": "execute_result"
    }
   ],
   "source": [
    "#Validating the column created\n",
    "core_weather"
   ]
  },
  {
   "cell_type": "code",
   "execution_count": 78,
   "id": "5fa95569-6124-4158-923a-d956e6f23ac7",
   "metadata": {
    "id": "5fa95569-6124-4158-923a-d956e6f23ac7"
   },
   "outputs": [],
   "source": [
    "core_weather[\"day_of_year_avg\"] = core_weather[\"temp_max\"].groupby(core_weather.index.day_of_year).transform(lambda x: x.expanding(1).mean())"
   ]
  },
  {
   "cell_type": "code",
   "execution_count": 79,
   "id": "ZNCoVPcwF9WX",
   "metadata": {
    "id": "ZNCoVPcwF9WX"
   },
   "outputs": [],
   "source": [
    "# Updating the predictors\n",
    "predictors = [\"precip\",\"temp_max\",\"temp_min\", \"month_max\", \"month_day_max\", \"max_min\", \"monthy_avg\", \"monthy_avg\", \"day_of_year_avg\"]"
   ]
  },
  {
   "cell_type": "markdown",
   "id": "gLvjGZXEGgzR",
   "metadata": {
    "id": "gLvjGZXEGgzR"
   },
   "source": [
    "Conseguimos reduzir o erro de 1.819 para:"
   ]
  },
  {
   "cell_type": "code",
   "execution_count": 80,
   "id": "p81pck7LF3GX",
   "metadata": {
    "colab": {
     "base_uri": "https://localhost:8080/"
    },
    "id": "p81pck7LF3GX",
    "outputId": "401adb13-1534-40fc-d2d4-033babcbf8c7"
   },
   "outputs": [
    {
     "name": "stdout",
     "output_type": "stream",
     "text": [
      "1.805348175647243\n"
     ]
    }
   ],
   "source": [
    "error, combined = create_predictions(predictors, core_weather, reg)"
   ]
  },
  {
   "cell_type": "markdown",
   "id": "UuQLBv5wGx8i",
   "metadata": {
    "id": "UuQLBv5wGx8i"
   },
   "source": [
    "#### Evaluating the regression coefficients (r²) again to see how each input variable influenced the model. Now, with new variables created (\"precip\", \"temp_max\", \"temp_min\", \"month_max\", \"month_day_max\", \"max_min\", \"monthy_avg\", \"monthy_avg\", \"day_of_year_avg\"). We can see that the month_day_max indicator was the one that most influenced our model, with R² of -1.721."
   ]
  },
  {
   "cell_type": "code",
   "execution_count": 81,
   "id": "bVkMGsEGG0HU",
   "metadata": {
    "colab": {
     "base_uri": "https://localhost:8080/"
    },
    "id": "bVkMGsEGG0HU",
    "outputId": "1c0d61d6-35f0-4e60-c9f2-1139a4cdb63a"
   },
   "outputs": [
    {
     "data": {
      "text/plain": [
       "array([-0.01936982,  0.54339782,  0.02320916,  0.18800343, -1.72853228,\n",
       "       -0.01073519,  0.07317781,  0.07317781,  0.08502958])"
      ]
     },
     "execution_count": 81,
     "metadata": {},
     "output_type": "execute_result"
    }
   ],
   "source": [
    "reg.coef_"
   ]
  },
  {
   "cell_type": "markdown",
   "id": "Dei1XPyiMesW",
   "metadata": {
    "id": "Dei1XPyiMesW"
   },
   "source": [
    "#### Checking the Pearson correlation of the \"target\" column with the other columns to suggest other starting points."
   ]
  },
  {
   "cell_type": "code",
   "execution_count": 82,
   "id": "KcJQHGzVIOiA",
   "metadata": {
    "colab": {
     "base_uri": "https://localhost:8080/",
     "height": 366
    },
    "id": "KcJQHGzVIOiA",
    "outputId": "11ce213e-a499-4f40-b5a5-6c3e0f9f5d3b"
   },
   "outputs": [
    {
     "data": {
      "text/plain": [
       "precip            -0.206215\n",
       "temp_max           0.822141\n",
       "temp_min           0.597146\n",
       "target             1.000000\n",
       "month_max          0.689185\n",
       "month_day_max     -0.420873\n",
       "max_min           -0.108923\n",
       "monthy_avg         0.691350\n",
       "day_of_year_avg    0.713429\n",
       "Name: target, dtype: float64"
      ]
     },
     "execution_count": 82,
     "metadata": {},
     "output_type": "execute_result"
    }
   ],
   "source": [
    "core_weather.corr()[\"target\"]"
   ]
  },
  {
   "cell_type": "markdown",
   "id": "3aOBMVrLMxdS",
   "metadata": {
    "id": "3aOBMVrLMxdS"
   },
   "source": [
    "#### Plotting the correlation matrix to better visualize the relationship between the new indicators and the targuet column and suggest new hypotheses or modifications."
   ]
  },
  {
   "cell_type": "code",
   "execution_count": 83,
   "id": "ab2cm15RI31j",
   "metadata": {
    "colab": {
     "base_uri": "https://localhost:8080/",
     "height": 555
    },
    "id": "ab2cm15RI31j",
    "outputId": "35120007-72d9-488f-a870-c19914b8a581"
   },
   "outputs": [
    {
     "data": {
      "text/plain": [
       "<Axes: >"
      ]
     },
     "execution_count": 83,
     "metadata": {},
     "output_type": "execute_result"
    },
    {
     "data": {
      "image/png": "[encoded data removed]",
      "text/plain": [
       "<Figure size 640x480 with 2 Axes>"
      ]
     },
     "metadata": {},
     "output_type": "display_data"
    }
   ],
   "source": [
    "import seaborn as sns\n",
    "\n",
    "correlation_matrix = core_weather.corr()\n",
    "sns.heatmap(correlation_matrix, annot=True)"
   ]
  },
  {
   "cell_type": "code",
   "execution_count": 84,
   "id": "MCadQv4GM72s",
   "metadata": {
    "colab": {
     "base_uri": "https://localhost:8080/",
     "height": 394
    },
    "id": "MCadQv4GM72s",
    "outputId": "98ecc571-648b-4f59-fd83-8147f02da06e"
   },
   "outputs": [
    {
     "data": {
      "text/html": [
       "<div>\n",
       "<style scoped>\n",
       "    .dataframe tbody tr th:only-of-type {\n",
       "        vertical-align: middle;\n",
       "    }\n",
       "\n",
       "    .dataframe tbody tr th {\n",
       "        vertical-align: top;\n",
       "    }\n",
       "\n",
       "    .dataframe thead th {\n",
       "        text-align: right;\n",
       "    }\n",
       "</style>\n",
       "<table border=\"1\" class=\"dataframe\">\n",
       "  <thead>\n",
       "    <tr style=\"text-align: right;\">\n",
       "      <th></th>\n",
       "      <th>actual</th>\n",
       "      <th>predictions</th>\n",
       "      <th>diff</th>\n",
       "    </tr>\n",
       "    <tr>\n",
       "      <th>DATE</th>\n",
       "      <th></th>\n",
       "      <th></th>\n",
       "      <th></th>\n",
       "    </tr>\n",
       "  </thead>\n",
       "  <tbody>\n",
       "    <tr>\n",
       "      <th>2024-09-29</th>\n",
       "      <td>32.2</td>\n",
       "      <td>22.409100</td>\n",
       "      <td>9.790900</td>\n",
       "    </tr>\n",
       "    <tr>\n",
       "      <th>2024-07-01</th>\n",
       "      <td>33.9</td>\n",
       "      <td>24.287581</td>\n",
       "      <td>9.612419</td>\n",
       "    </tr>\n",
       "    <tr>\n",
       "      <th>2024-09-02</th>\n",
       "      <td>32.8</td>\n",
       "      <td>24.145520</td>\n",
       "      <td>8.654480</td>\n",
       "    </tr>\n",
       "    <tr>\n",
       "      <th>2024-06-10</th>\n",
       "      <td>29.4</td>\n",
       "      <td>20.792334</td>\n",
       "      <td>8.607666</td>\n",
       "    </tr>\n",
       "    <tr>\n",
       "      <th>2024-09-26</th>\n",
       "      <td>31.7</td>\n",
       "      <td>23.148278</td>\n",
       "      <td>8.551722</td>\n",
       "    </tr>\n",
       "    <tr>\n",
       "      <th>2023-08-29</th>\n",
       "      <td>32.8</td>\n",
       "      <td>24.300044</td>\n",
       "      <td>8.499956</td>\n",
       "    </tr>\n",
       "    <tr>\n",
       "      <th>2023-06-30</th>\n",
       "      <td>30.6</td>\n",
       "      <td>22.179505</td>\n",
       "      <td>8.420495</td>\n",
       "    </tr>\n",
       "    <tr>\n",
       "      <th>2023-08-19</th>\n",
       "      <td>30.0</td>\n",
       "      <td>21.691666</td>\n",
       "      <td>8.308334</td>\n",
       "    </tr>\n",
       "    <tr>\n",
       "      <th>2024-10-05</th>\n",
       "      <td>37.8</td>\n",
       "      <td>29.653305</td>\n",
       "      <td>8.146695</td>\n",
       "    </tr>\n",
       "    <tr>\n",
       "      <th>2023-10-19</th>\n",
       "      <td>19.4</td>\n",
       "      <td>27.340011</td>\n",
       "      <td>7.940011</td>\n",
       "    </tr>\n",
       "  </tbody>\n",
       "</table>\n",
       "</div>"
      ],
      "text/plain": [
       "            actual  predictions      diff\n",
       "DATE                                     \n",
       "2024-09-29    32.2    22.409100  9.790900\n",
       "2024-07-01    33.9    24.287581  9.612419\n",
       "2024-09-02    32.8    24.145520  8.654480\n",
       "2024-06-10    29.4    20.792334  8.607666\n",
       "2024-09-26    31.7    23.148278  8.551722\n",
       "2023-08-29    32.8    24.300044  8.499956\n",
       "2023-06-30    30.6    22.179505  8.420495\n",
       "2023-08-19    30.0    21.691666  8.308334\n",
       "2024-10-05    37.8    29.653305  8.146695\n",
       "2023-10-19    19.4    27.340011  7.940011"
      ]
     },
     "execution_count": 84,
     "metadata": {},
     "output_type": "execute_result"
    }
   ],
   "source": [
    "# Checando a diferença entre o valor real e o previsto pelo modelo\n",
    "combined[\"diff\"] = (combined[\"actual\"] - combined[\"predictions\"]).abs()\n",
    "combined.sort_values(\"diff\", ascending=False).head(10)"
   ]
  },
  {
   "cell_type": "markdown",
   "id": "oV5OFkByNHDj",
   "metadata": {
    "id": "oV5OFkByNHDj"
   },
   "source": [
    "## Conclusion\n",
    "The Ridge model, also known as Ridge Regression or Tikhonov regularization, proved to be effective in forecasting with an acceptable average error.\n",
    "\n",
    "Our model was able to predict the maximum temperature of the next day based on data from previous days with a margin of error of 1.873 degrees Celsius. After adding new indicators, we were able to reduce the average error to 1.805, which is very good.\n",
    "\n",
    "We learned and practiced how a linear regression model, under the supervised learning technique, works.\n",
    "\n",
    "We calculated the Pearson correlation matrix to check other possible correlations and suggest new insights.\n",
    "\n",
    "Further analyses are suggested to improve the model:\n",
    "\n",
    "1. Instead of predicting just one day, one can try to predict an entire week;\n",
    "\n",
    "2. Use data from multiple NOOA stations;\n",
    "\n",
    "3. Use more indicators;\n",
    "\n",
    "4. Use more than one ML model;\n",
    "\n",
    "5. Use the test group of more than one year."
   ]
  }
 ],
 "metadata": {
  "colab": {
   "provenance": []
  },
  "kernelspec": {
   "display_name": "Python 3 (ipykernel)",
   "language": "python",
   "name": "python3"
  },
  "language_info": {
   "codemirror_mode": {
    "name": "ipython",
    "version": 3
   },
   "file_extension": ".py",
   "mimetype": "text/x-python",
   "name": "python",
   "nbconvert_exporter": "python",
   "pygments_lexer": "ipython3",
   "version": "3.12.7"
  }
 },
 "nbformat": 4,
 "nbformat_minor": 5
}
